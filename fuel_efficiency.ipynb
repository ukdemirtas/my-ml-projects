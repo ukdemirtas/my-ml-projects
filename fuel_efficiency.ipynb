{
 "cells": [
  {
   "cell_type": "code",
   "execution_count": 217,
   "metadata": {},
   "outputs": [],
   "source": [
    "import pandas as pd\n",
    "import numpy as np"
   ]
  },
  {
   "cell_type": "code",
   "execution_count": 187,
   "metadata": {},
   "outputs": [
    {
     "data": {
      "text/html": [
       "<div>\n",
       "<style scoped>\n",
       "    .dataframe tbody tr th:only-of-type {\n",
       "        vertical-align: middle;\n",
       "    }\n",
       "\n",
       "    .dataframe tbody tr th {\n",
       "        vertical-align: top;\n",
       "    }\n",
       "\n",
       "    .dataframe thead th {\n",
       "        text-align: right;\n",
       "    }\n",
       "</style>\n",
       "<table border=\"1\" class=\"dataframe\">\n",
       "  <thead>\n",
       "    <tr style=\"text-align: right;\">\n",
       "      <th></th>\n",
       "      <th>mpg</th>\n",
       "      <th>cylinders</th>\n",
       "      <th>displacement</th>\n",
       "      <th>horsepower</th>\n",
       "      <th>weight</th>\n",
       "      <th>acceleration</th>\n",
       "      <th>model_year</th>\n",
       "      <th>origin</th>\n",
       "      <th>car_name</th>\n",
       "    </tr>\n",
       "  </thead>\n",
       "  <tbody>\n",
       "    <tr>\n",
       "      <th>0</th>\n",
       "      <td>18.0</td>\n",
       "      <td>8</td>\n",
       "      <td>307.0</td>\n",
       "      <td>130.0</td>\n",
       "      <td>3504.0</td>\n",
       "      <td>12.0</td>\n",
       "      <td>70</td>\n",
       "      <td>1</td>\n",
       "      <td>chevrolet chevelle malibu</td>\n",
       "    </tr>\n",
       "    <tr>\n",
       "      <th>1</th>\n",
       "      <td>15.0</td>\n",
       "      <td>8</td>\n",
       "      <td>350.0</td>\n",
       "      <td>165.0</td>\n",
       "      <td>3693.0</td>\n",
       "      <td>11.5</td>\n",
       "      <td>70</td>\n",
       "      <td>1</td>\n",
       "      <td>buick skylark 320</td>\n",
       "    </tr>\n",
       "    <tr>\n",
       "      <th>2</th>\n",
       "      <td>18.0</td>\n",
       "      <td>8</td>\n",
       "      <td>318.0</td>\n",
       "      <td>150.0</td>\n",
       "      <td>3436.0</td>\n",
       "      <td>11.0</td>\n",
       "      <td>70</td>\n",
       "      <td>1</td>\n",
       "      <td>plymouth satellite</td>\n",
       "    </tr>\n",
       "    <tr>\n",
       "      <th>3</th>\n",
       "      <td>16.0</td>\n",
       "      <td>8</td>\n",
       "      <td>304.0</td>\n",
       "      <td>150.0</td>\n",
       "      <td>3433.0</td>\n",
       "      <td>12.0</td>\n",
       "      <td>70</td>\n",
       "      <td>1</td>\n",
       "      <td>amc rebel sst</td>\n",
       "    </tr>\n",
       "    <tr>\n",
       "      <th>4</th>\n",
       "      <td>17.0</td>\n",
       "      <td>8</td>\n",
       "      <td>302.0</td>\n",
       "      <td>140.0</td>\n",
       "      <td>3449.0</td>\n",
       "      <td>10.5</td>\n",
       "      <td>70</td>\n",
       "      <td>1</td>\n",
       "      <td>ford torino</td>\n",
       "    </tr>\n",
       "  </tbody>\n",
       "</table>\n",
       "</div>"
      ],
      "text/plain": [
       "    mpg  cylinders  displacement horsepower  weight  acceleration  model_year  \\\n",
       "0  18.0          8         307.0      130.0  3504.0          12.0          70   \n",
       "1  15.0          8         350.0      165.0  3693.0          11.5          70   \n",
       "2  18.0          8         318.0      150.0  3436.0          11.0          70   \n",
       "3  16.0          8         304.0      150.0  3433.0          12.0          70   \n",
       "4  17.0          8         302.0      140.0  3449.0          10.5          70   \n",
       "\n",
       "   origin                   car_name  \n",
       "0       1  chevrolet chevelle malibu  \n",
       "1       1          buick skylark 320  \n",
       "2       1         plymouth satellite  \n",
       "3       1              amc rebel sst  \n",
       "4       1                ford torino  "
      ]
     },
     "execution_count": 187,
     "metadata": {},
     "output_type": "execute_result"
    }
   ],
   "source": [
    "df = pd.read_csv(\"https://code.datasciencedojo.com/datasciencedojo/datasets/raw/master/Auto%20MPG/auto-mpg.data\",sep=\"\\s+\",names=[\"mpg\",\"cylinders\",\"displacement\",\"horsepower\",\"weight\",\"acceleration\",\"model_year\",\"origin\",\"car_name\"])\n",
    "df.head()"
   ]
  },
  {
   "cell_type": "code",
   "execution_count": 188,
   "metadata": {},
   "outputs": [],
   "source": [
    "df = df.iloc[:,:-1]"
   ]
  },
  {
   "cell_type": "code",
   "execution_count": 189,
   "metadata": {},
   "outputs": [
    {
     "name": "stdout",
     "output_type": "stream",
     "text": [
      "<class 'pandas.core.frame.DataFrame'>\n",
      "RangeIndex: 398 entries, 0 to 397\n",
      "Data columns (total 8 columns):\n",
      " #   Column        Non-Null Count  Dtype  \n",
      "---  ------        --------------  -----  \n",
      " 0   mpg           398 non-null    float64\n",
      " 1   cylinders     398 non-null    int64  \n",
      " 2   displacement  398 non-null    float64\n",
      " 3   horsepower    398 non-null    object \n",
      " 4   weight        398 non-null    float64\n",
      " 5   acceleration  398 non-null    float64\n",
      " 6   model_year    398 non-null    int64  \n",
      " 7   origin        398 non-null    int64  \n",
      "dtypes: float64(4), int64(3), object(1)\n",
      "memory usage: 25.0+ KB\n"
     ]
    }
   ],
   "source": [
    "df.info()"
   ]
  },
  {
   "cell_type": "code",
   "execution_count": 190,
   "metadata": {},
   "outputs": [
    {
     "data": {
      "text/plain": [
       "mpg             0\n",
       "cylinders       0\n",
       "displacement    0\n",
       "horsepower      0\n",
       "weight          0\n",
       "acceleration    0\n",
       "model_year      0\n",
       "origin          0\n",
       "dtype: int64"
      ]
     },
     "execution_count": 190,
     "metadata": {},
     "output_type": "execute_result"
    }
   ],
   "source": [
    "df.isna().sum()"
   ]
  },
  {
   "cell_type": "code",
   "execution_count": 191,
   "metadata": {},
   "outputs": [
    {
     "data": {
      "text/plain": [
       "array([8, 4, 6, 3, 5], dtype=int64)"
      ]
     },
     "execution_count": 191,
     "metadata": {},
     "output_type": "execute_result"
    }
   ],
   "source": [
    "df.cylinders.unique()"
   ]
  },
  {
   "cell_type": "code",
   "execution_count": 192,
   "metadata": {},
   "outputs": [
    {
     "data": {
      "text/plain": [
       "array([307. , 350. , 318. , 304. , 302. , 429. , 454. , 440. , 455. ,\n",
       "       390. , 383. , 340. , 400. , 113. , 198. , 199. , 200. ,  97. ,\n",
       "       110. , 107. , 104. , 121. , 360. , 140. ,  98. , 232. , 225. ,\n",
       "       250. , 351. , 258. , 122. , 116. ,  79. ,  88. ,  71. ,  72. ,\n",
       "        91. ,  97.5,  70. , 120. ,  96. , 108. , 155. ,  68. , 114. ,\n",
       "       156. ,  76. ,  83. ,  90. , 231. , 262. , 134. , 119. , 171. ,\n",
       "       115. , 101. , 305. ,  85. , 130. , 168. , 111. , 260. , 151. ,\n",
       "       146. ,  80. ,  78. , 105. , 131. , 163. ,  89. , 267. ,  86. ,\n",
       "       183. , 141. , 173. , 135. ,  81. , 100. , 145. , 112. , 181. ,\n",
       "       144. ])"
      ]
     },
     "execution_count": 192,
     "metadata": {},
     "output_type": "execute_result"
    }
   ],
   "source": [
    "df.displacement.unique()"
   ]
  },
  {
   "cell_type": "code",
   "execution_count": 193,
   "metadata": {},
   "outputs": [
    {
     "data": {
      "text/plain": [
       "array(['130.0', '165.0', '150.0', '140.0', '198.0', '220.0', '215.0',\n",
       "       '225.0', '190.0', '170.0', '160.0', '95.00', '97.00', '85.00',\n",
       "       '88.00', '46.00', '87.00', '90.00', '113.0', '200.0', '210.0',\n",
       "       '193.0', '?', '100.0', '105.0', '175.0', '153.0', '180.0', '110.0',\n",
       "       '72.00', '86.00', '70.00', '76.00', '65.00', '69.00', '60.00',\n",
       "       '80.00', '54.00', '208.0', '155.0', '112.0', '92.00', '145.0',\n",
       "       '137.0', '158.0', '167.0', '94.00', '107.0', '230.0', '49.00',\n",
       "       '75.00', '91.00', '122.0', '67.00', '83.00', '78.00', '52.00',\n",
       "       '61.00', '93.00', '148.0', '129.0', '96.00', '71.00', '98.00',\n",
       "       '115.0', '53.00', '81.00', '79.00', '120.0', '152.0', '102.0',\n",
       "       '108.0', '68.00', '58.00', '149.0', '89.00', '63.00', '48.00',\n",
       "       '66.00', '139.0', '103.0', '125.0', '133.0', '138.0', '135.0',\n",
       "       '142.0', '77.00', '62.00', '132.0', '84.00', '64.00', '74.00',\n",
       "       '116.0', '82.00'], dtype=object)"
      ]
     },
     "execution_count": 193,
     "metadata": {},
     "output_type": "execute_result"
    }
   ],
   "source": [
    "df.horsepower.unique()"
   ]
  },
  {
   "cell_type": "code",
   "execution_count": 194,
   "metadata": {},
   "outputs": [
    {
     "data": {
      "text/plain": [
       "array([3504., 3693., 3436., 3433., 3449., 4341., 4354., 4312., 4425.,\n",
       "       3850., 3563., 3609., 3761., 3086., 2372., 2833., 2774., 2587.,\n",
       "       2130., 1835., 2672., 2430., 2375., 2234., 2648., 4615., 4376.,\n",
       "       4382., 4732., 2264., 2228., 2046., 2634., 3439., 3329., 3302.,\n",
       "       3288., 4209., 4464., 4154., 4096., 4955., 4746., 5140., 2962.,\n",
       "       2408., 3282., 3139., 2220., 2123., 2074., 2065., 1773., 1613.,\n",
       "       1834., 1955., 2278., 2126., 2254., 2226., 4274., 4385., 4135.,\n",
       "       4129., 3672., 4633., 4502., 4456., 4422., 2330., 3892., 4098.,\n",
       "       4294., 4077., 2933., 2511., 2979., 2189., 2395., 2288., 2506.,\n",
       "       2164., 2100., 4100., 3988., 4042., 3777., 4952., 4363., 4237.,\n",
       "       4735., 4951., 3821., 3121., 3278., 2945., 3021., 2904., 1950.,\n",
       "       4997., 4906., 4654., 4499., 2789., 2279., 2401., 2379., 2124.,\n",
       "       2310., 2472., 2265., 4082., 4278., 1867., 2158., 2582., 2868.,\n",
       "       3399., 2660., 2807., 3664., 3102., 2875., 2901., 3336., 2451.,\n",
       "       1836., 2542., 3781., 3632., 3613., 4141., 4699., 4457., 4638.,\n",
       "       4257., 2219., 1963., 2300., 1649., 2003., 2125., 2108., 2246.,\n",
       "       2489., 2391., 2000., 3264., 3459., 3432., 3158., 4668., 4440.,\n",
       "       4498., 4657., 3907., 3897., 3730., 3785., 3039., 3221., 3169.,\n",
       "       2171., 2639., 2914., 2592., 2702., 2223., 2545., 2984., 1937.,\n",
       "       3211., 2694., 2957., 2671., 1795., 2464., 2572., 2255., 2202.,\n",
       "       4215., 4190., 3962., 3233., 3353., 3012., 3085., 2035., 3651.,\n",
       "       3574., 3645., 3193., 1825., 1990., 2155., 2565., 3150., 3940.,\n",
       "       3270., 2930., 3820., 4380., 4055., 3870., 3755., 2045., 1945.,\n",
       "       3880., 4060., 4140., 4295., 3520., 3425., 3630., 3525., 4220.,\n",
       "       4165., 4325., 4335., 1940., 2740., 2755., 2051., 2075., 1985.,\n",
       "       2190., 2815., 2600., 2720., 1800., 2070., 3365., 3735., 3570.,\n",
       "       3535., 3155., 2965., 3430., 3210., 3380., 3070., 3620., 3410.,\n",
       "       3445., 3205., 4080., 2560., 2230., 2515., 2745., 2855., 2405.,\n",
       "       2830., 3140., 2795., 2135., 3245., 2990., 2890., 3265., 3360.,\n",
       "       3840., 3725., 3955., 3830., 4360., 4054., 3605., 1925., 1975.,\n",
       "       1915., 2670., 3530., 3900., 3190., 3420., 2200., 2150., 2020.,\n",
       "       2595., 2700., 2556., 2144., 1968., 2120., 2019., 2678., 2870.,\n",
       "       3003., 3381., 2188., 2711., 2434., 2110., 2800., 2085., 2335.,\n",
       "       2950., 3250., 1850., 2145., 1845., 2910., 2420., 2500., 2905.,\n",
       "       2290., 2490., 2635., 2620., 2725., 2385., 1755., 1875., 1760.,\n",
       "       2050., 2215., 2380., 2320., 2210., 2350., 2615., 3230., 3160.,\n",
       "       2900., 3415., 3060., 3465., 2605., 2640., 2575., 2525., 2735.,\n",
       "       2865., 3035., 1980., 2025., 1970., 2160., 2205., 2245., 1965.,\n",
       "       1995., 3015., 2585., 2835., 2665., 2370., 2790., 2295., 2625.])"
      ]
     },
     "execution_count": 194,
     "metadata": {},
     "output_type": "execute_result"
    }
   ],
   "source": [
    "df.weight.unique()"
   ]
  },
  {
   "cell_type": "code",
   "execution_count": 195,
   "metadata": {},
   "outputs": [
    {
     "data": {
      "text/plain": [
       "array([12. , 11.5, 11. , 10.5, 10. ,  9. ,  8.5,  8. ,  9.5, 15. , 15.5,\n",
       "       16. , 14.5, 20.5, 17.5, 12.5, 14. , 13.5, 18.5, 19. , 13. , 19.5,\n",
       "       18. , 17. , 23.5, 16.5, 21. , 16.9, 14.9, 17.7, 15.3, 13.9, 12.8,\n",
       "       15.4, 17.6, 22.2, 22.1, 14.2, 17.4, 16.2, 17.8, 12.2, 16.4, 13.6,\n",
       "       15.7, 13.2, 21.9, 16.7, 12.1, 14.8, 18.6, 16.8, 13.7, 11.1, 11.4,\n",
       "       18.2, 15.8, 15.9, 14.1, 21.5, 14.4, 19.4, 19.2, 17.2, 18.7, 15.1,\n",
       "       13.4, 11.2, 14.7, 16.6, 17.3, 15.2, 14.3, 20.1, 24.8, 11.3, 12.9,\n",
       "       18.8, 18.1, 17.9, 21.7, 23.7, 19.9, 21.8, 13.8, 12.6, 16.1, 20.7,\n",
       "       18.3, 20.4, 19.6, 17.1, 15.6, 24.6, 11.6])"
      ]
     },
     "execution_count": 195,
     "metadata": {},
     "output_type": "execute_result"
    }
   ],
   "source": [
    "df.acceleration.unique()"
   ]
  },
  {
   "cell_type": "code",
   "execution_count": 196,
   "metadata": {},
   "outputs": [
    {
     "data": {
      "text/plain": [
       "array([70, 71, 72, 73, 74, 75, 76, 77, 78, 79, 80, 81, 82], dtype=int64)"
      ]
     },
     "execution_count": 196,
     "metadata": {},
     "output_type": "execute_result"
    }
   ],
   "source": [
    "df.model_year.unique()"
   ]
  },
  {
   "cell_type": "code",
   "execution_count": 197,
   "metadata": {},
   "outputs": [
    {
     "data": {
      "text/plain": [
       "array([1, 3, 2], dtype=int64)"
      ]
     },
     "execution_count": 197,
     "metadata": {},
     "output_type": "execute_result"
    }
   ],
   "source": [
    "df.origin.unique()"
   ]
  },
  {
   "cell_type": "code",
   "execution_count": 198,
   "metadata": {},
   "outputs": [],
   "source": [
    "df.replace({\"?\":90},inplace=True)"
   ]
  },
  {
   "cell_type": "code",
   "execution_count": 199,
   "metadata": {},
   "outputs": [],
   "source": [
    "df.horsepower = df.horsepower.astype(float)"
   ]
  },
  {
   "cell_type": "code",
   "execution_count": 200,
   "metadata": {},
   "outputs": [],
   "source": [
    "import seaborn as sns\n",
    "import matplotlib.pyplot as plt"
   ]
  },
  {
   "cell_type": "code",
   "execution_count": 201,
   "metadata": {},
   "outputs": [
    {
     "data": {
      "text/plain": [
       "<AxesSubplot:xlabel='horsepower', ylabel='cylinders'>"
      ]
     },
     "execution_count": 201,
     "metadata": {},
     "output_type": "execute_result"
    },
    {
     "data": {
      "image/png": "[encoded data removed]",
      "text/plain": [
       "<Figure size 432x288 with 1 Axes>"
      ]
     },
     "metadata": {
      "needs_background": "light"
     },
     "output_type": "display_data"
    }
   ],
   "source": [
    "sns.scatterplot(data=df,y=\"cylinders\",x=\"horsepower\")"
   ]
  },
  {
   "cell_type": "code",
   "execution_count": 213,
   "metadata": {},
   "outputs": [],
   "source": [
    "df.cylinders = pd.Categorical(df.cylinders)\n",
    "df.model_year = pd.Categorical(df.model_year)\n",
    "df.origin = pd.Categorical(df.origin)\n"
   ]
  },
  {
   "cell_type": "code",
   "execution_count": 214,
   "metadata": {},
   "outputs": [
    {
     "data": {
      "text/plain": [
       "[8, 4, 6, 3, 5]\n",
       "Categories (5, int64): [3, 4, 5, 6, 8]"
      ]
     },
     "execution_count": 214,
     "metadata": {},
     "output_type": "execute_result"
    }
   ],
   "source": [
    "df.cylinders.unique()"
   ]
  },
  {
   "cell_type": "code",
   "execution_count": 215,
   "metadata": {},
   "outputs": [
    {
     "name": "stdout",
     "output_type": "stream",
     "text": [
      "<class 'pandas.core.frame.DataFrame'>\n",
      "RangeIndex: 398 entries, 0 to 397\n",
      "Data columns (total 8 columns):\n",
      " #   Column        Non-Null Count  Dtype   \n",
      "---  ------        --------------  -----   \n",
      " 0   mpg           398 non-null    float64 \n",
      " 1   cylinders     398 non-null    category\n",
      " 2   displacement  398 non-null    float64 \n",
      " 3   horsepower    398 non-null    float64 \n",
      " 4   weight        398 non-null    float64 \n",
      " 5   acceleration  398 non-null    float64 \n",
      " 6   model_year    398 non-null    category\n",
      " 7   origin        398 non-null    category\n",
      "dtypes: category(3), float64(5)\n",
      "memory usage: 17.8 KB\n"
     ]
    }
   ],
   "source": [
    "df.info()"
   ]
  },
  {
   "cell_type": "code",
   "execution_count": 218,
   "metadata": {},
   "outputs": [],
   "source": [
    "from sklearn.preprocessing import StandardScaler"
   ]
  },
  {
   "cell_type": "code",
   "execution_count": 219,
   "metadata": {},
   "outputs": [],
   "source": [
    "sscaler = StandardScaler()"
   ]
  },
  {
   "cell_type": "code",
   "execution_count": 220,
   "metadata": {},
   "outputs": [],
   "source": [
    "cols = [\"displacement\",\"horsepower\",\"weight\",\"acceleration\"]\n",
    "df[cols] = sscaler.fit_transform(df[cols])"
   ]
  },
  {
   "cell_type": "code",
   "execution_count": 221,
   "metadata": {},
   "outputs": [
    {
     "data": {
      "text/html": [
       "<div>\n",
       "<style scoped>\n",
       "    .dataframe tbody tr th:only-of-type {\n",
       "        vertical-align: middle;\n",
       "    }\n",
       "\n",
       "    .dataframe tbody tr th {\n",
       "        vertical-align: top;\n",
       "    }\n",
       "\n",
       "    .dataframe thead th {\n",
       "        text-align: right;\n",
       "    }\n",
       "</style>\n",
       "<table border=\"1\" class=\"dataframe\">\n",
       "  <thead>\n",
       "    <tr style=\"text-align: right;\">\n",
       "      <th></th>\n",
       "      <th>mpg</th>\n",
       "      <th>cylinders</th>\n",
       "      <th>displacement</th>\n",
       "      <th>horsepower</th>\n",
       "      <th>weight</th>\n",
       "      <th>acceleration</th>\n",
       "      <th>model_year</th>\n",
       "      <th>origin</th>\n",
       "    </tr>\n",
       "  </thead>\n",
       "  <tbody>\n",
       "    <tr>\n",
       "      <th>0</th>\n",
       "      <td>18.0</td>\n",
       "      <td>8</td>\n",
       "      <td>1.090604</td>\n",
       "      <td>0.674194</td>\n",
       "      <td>0.630870</td>\n",
       "      <td>-1.295498</td>\n",
       "      <td>70</td>\n",
       "      <td>1</td>\n",
       "    </tr>\n",
       "    <tr>\n",
       "      <th>1</th>\n",
       "      <td>15.0</td>\n",
       "      <td>8</td>\n",
       "      <td>1.503514</td>\n",
       "      <td>1.590619</td>\n",
       "      <td>0.854333</td>\n",
       "      <td>-1.477038</td>\n",
       "      <td>70</td>\n",
       "      <td>1</td>\n",
       "    </tr>\n",
       "    <tr>\n",
       "      <th>2</th>\n",
       "      <td>18.0</td>\n",
       "      <td>8</td>\n",
       "      <td>1.196232</td>\n",
       "      <td>1.197865</td>\n",
       "      <td>0.550470</td>\n",
       "      <td>-1.658577</td>\n",
       "      <td>70</td>\n",
       "      <td>1</td>\n",
       "    </tr>\n",
       "    <tr>\n",
       "      <th>3</th>\n",
       "      <td>16.0</td>\n",
       "      <td>8</td>\n",
       "      <td>1.061796</td>\n",
       "      <td>1.197865</td>\n",
       "      <td>0.546923</td>\n",
       "      <td>-1.295498</td>\n",
       "      <td>70</td>\n",
       "      <td>1</td>\n",
       "    </tr>\n",
       "    <tr>\n",
       "      <th>4</th>\n",
       "      <td>17.0</td>\n",
       "      <td>8</td>\n",
       "      <td>1.042591</td>\n",
       "      <td>0.936030</td>\n",
       "      <td>0.565841</td>\n",
       "      <td>-1.840117</td>\n",
       "      <td>70</td>\n",
       "      <td>1</td>\n",
       "    </tr>\n",
       "  </tbody>\n",
       "</table>\n",
       "</div>"
      ],
      "text/plain": [
       "    mpg cylinders  displacement  horsepower    weight  acceleration  \\\n",
       "0  18.0         8      1.090604    0.674194  0.630870     -1.295498   \n",
       "1  15.0         8      1.503514    1.590619  0.854333     -1.477038   \n",
       "2  18.0         8      1.196232    1.197865  0.550470     -1.658577   \n",
       "3  16.0         8      1.061796    1.197865  0.546923     -1.295498   \n",
       "4  17.0         8      1.042591    0.936030  0.565841     -1.840117   \n",
       "\n",
       "  model_year origin  \n",
       "0         70      1  \n",
       "1         70      1  \n",
       "2         70      1  \n",
       "3         70      1  \n",
       "4         70      1  "
      ]
     },
     "execution_count": 221,
     "metadata": {},
     "output_type": "execute_result"
    }
   ],
   "source": [
    "df.head()"
   ]
  },
  {
   "cell_type": "code",
   "execution_count": 223,
   "metadata": {},
   "outputs": [],
   "source": [
    "X=df.drop(columns=\"mpg\")\n",
    "y=df.mpg"
   ]
  },
  {
   "cell_type": "code",
   "execution_count": 225,
   "metadata": {},
   "outputs": [],
   "source": [
    "from sklearn.metrics import mean_squared_error, r2_score\n",
    "\n",
    "from sklearn.linear_model import LinearRegression\n",
    "from sklearn.tree import DecisionTreeRegressor\n",
    "from sklearn.neighbors import KNeighborsRegressor\n",
    "from sklearn.neural_network import MLPRegressor\n",
    "from sklearn.ensemble import RandomForestRegressor,GradientBoostingRegressor\n",
    "from sklearn.svm import SVR\n",
    "\n",
    "from sklearn.model_selection import cross_val_score, train_test_split, GridSearchCV"
   ]
  },
  {
   "cell_type": "code",
   "execution_count": 227,
   "metadata": {},
   "outputs": [],
   "source": [
    "X_train, X_test, y_train, y_test = train_test_split(X,y,test_size=0.15)"
   ]
  },
  {
   "cell_type": "code",
   "execution_count": 226,
   "metadata": {},
   "outputs": [],
   "source": [
    "list_of_model = [LinearRegression(), DecisionTreeRegressor(), KNeighborsRegressor(), MLPRegressor(), RandomForestRegressor(), GradientBoostingRegressor(), SVR()]"
   ]
  },
  {
   "cell_type": "code",
   "execution_count": 231,
   "metadata": {},
   "outputs": [],
   "source": [
    "def comparing_model():\n",
    "    score_list = list()\n",
    "    for model in list_of_model:\n",
    "        cv_score = cross_val_score(model,X,y,cv=5)\n",
    "        estimator = model.fit(X_train,y_train)\n",
    "        y_pred = estimator.predict(X_test)\n",
    "        mse_score = mean_squared_error(y_test,y_pred)\n",
    "        score_list.append({\n",
    "            \"model\" : model,\n",
    "            \"cross_val_score\" : np.mean(cv_score),\n",
    "            \"mean_squared_error\" : mse_score\n",
    "        })\n",
    "    result_df = pd.DataFrame(score_list,columns=[\"model\",\"cross_val_score\",\"mean_squared_error\"])\n",
    "    return result_df"
   ]
  },
  {
   "cell_type": "code",
   "execution_count": 232,
   "metadata": {},
   "outputs": [
    {
     "name": "stderr",
     "output_type": "stream",
     "text": [
      "d:\\Users\\ukdem\\anaconda3\\lib\\site-packages\\sklearn\\neural_network\\_multilayer_perceptron.py:692: ConvergenceWarning: Stochastic Optimizer: Maximum iterations (200) reached and the optimization hasn't converged yet.\n",
      "  warnings.warn(\n",
      "d:\\Users\\ukdem\\anaconda3\\lib\\site-packages\\sklearn\\neural_network\\_multilayer_perceptron.py:692: ConvergenceWarning: Stochastic Optimizer: Maximum iterations (200) reached and the optimization hasn't converged yet.\n",
      "  warnings.warn(\n",
      "d:\\Users\\ukdem\\anaconda3\\lib\\site-packages\\sklearn\\neural_network\\_multilayer_perceptron.py:692: ConvergenceWarning: Stochastic Optimizer: Maximum iterations (200) reached and the optimization hasn't converged yet.\n",
      "  warnings.warn(\n",
      "d:\\Users\\ukdem\\anaconda3\\lib\\site-packages\\sklearn\\neural_network\\_multilayer_perceptron.py:692: ConvergenceWarning: Stochastic Optimizer: Maximum iterations (200) reached and the optimization hasn't converged yet.\n",
      "  warnings.warn(\n",
      "d:\\Users\\ukdem\\anaconda3\\lib\\site-packages\\sklearn\\neural_network\\_multilayer_perceptron.py:692: ConvergenceWarning: Stochastic Optimizer: Maximum iterations (200) reached and the optimization hasn't converged yet.\n",
      "  warnings.warn(\n",
      "d:\\Users\\ukdem\\anaconda3\\lib\\site-packages\\sklearn\\neural_network\\_multilayer_perceptron.py:692: ConvergenceWarning: Stochastic Optimizer: Maximum iterations (200) reached and the optimization hasn't converged yet.\n",
      "  warnings.warn(\n"
     ]
    }
   ],
   "source": [
    "result_df = comparing_model()"
   ]
  },
  {
   "cell_type": "code",
   "execution_count": 233,
   "metadata": {},
   "outputs": [
    {
     "data": {
      "text/html": [
       "<div>\n",
       "<style scoped>\n",
       "    .dataframe tbody tr th:only-of-type {\n",
       "        vertical-align: middle;\n",
       "    }\n",
       "\n",
       "    .dataframe tbody tr th {\n",
       "        vertical-align: top;\n",
       "    }\n",
       "\n",
       "    .dataframe thead th {\n",
       "        text-align: right;\n",
       "    }\n",
       "</style>\n",
       "<table border=\"1\" class=\"dataframe\">\n",
       "  <thead>\n",
       "    <tr style=\"text-align: right;\">\n",
       "      <th></th>\n",
       "      <th>model</th>\n",
       "      <th>cross_val_score</th>\n",
       "      <th>mean_squared_error</th>\n",
       "    </tr>\n",
       "  </thead>\n",
       "  <tbody>\n",
       "    <tr>\n",
       "      <th>0</th>\n",
       "      <td>LinearRegression()</td>\n",
       "      <td>0.595613</td>\n",
       "      <td>13.122747</td>\n",
       "    </tr>\n",
       "    <tr>\n",
       "      <th>1</th>\n",
       "      <td>DecisionTreeRegressor()</td>\n",
       "      <td>0.637005</td>\n",
       "      <td>9.563167</td>\n",
       "    </tr>\n",
       "    <tr>\n",
       "      <th>2</th>\n",
       "      <td>KNeighborsRegressor()</td>\n",
       "      <td>0.686348</td>\n",
       "      <td>8.951340</td>\n",
       "    </tr>\n",
       "    <tr>\n",
       "      <th>3</th>\n",
       "      <td>MLPRegressor()</td>\n",
       "      <td>0.533349</td>\n",
       "      <td>14.831551</td>\n",
       "    </tr>\n",
       "    <tr>\n",
       "      <th>4</th>\n",
       "      <td>(DecisionTreeRegressor(max_features='auto', ra...</td>\n",
       "      <td>0.764447</td>\n",
       "      <td>7.600283</td>\n",
       "    </tr>\n",
       "    <tr>\n",
       "      <th>5</th>\n",
       "      <td>([DecisionTreeRegressor(criterion='friedman_ms...</td>\n",
       "      <td>0.769230</td>\n",
       "      <td>6.814894</td>\n",
       "    </tr>\n",
       "    <tr>\n",
       "      <th>6</th>\n",
       "      <td>SVR()</td>\n",
       "      <td>-0.697921</td>\n",
       "      <td>55.125953</td>\n",
       "    </tr>\n",
       "  </tbody>\n",
       "</table>\n",
       "</div>"
      ],
      "text/plain": [
       "                                               model  cross_val_score  \\\n",
       "0                                 LinearRegression()         0.595613   \n",
       "1                            DecisionTreeRegressor()         0.637005   \n",
       "2                              KNeighborsRegressor()         0.686348   \n",
       "3                                     MLPRegressor()         0.533349   \n",
       "4  (DecisionTreeRegressor(max_features='auto', ra...         0.764447   \n",
       "5  ([DecisionTreeRegressor(criterion='friedman_ms...         0.769230   \n",
       "6                                              SVR()        -0.697921   \n",
       "\n",
       "   mean_squared_error  \n",
       "0           13.122747  \n",
       "1            9.563167  \n",
       "2            8.951340  \n",
       "3           14.831551  \n",
       "4            7.600283  \n",
       "5            6.814894  \n",
       "6           55.125953  "
      ]
     },
     "execution_count": 233,
     "metadata": {},
     "output_type": "execute_result"
    }
   ],
   "source": [
    "result_df"
   ]
  },
  {
   "cell_type": "code",
   "execution_count": 234,
   "metadata": {},
   "outputs": [
    {
     "data": {
      "text/plain": [
       "9.940500000000002"
      ]
     },
     "execution_count": 234,
     "metadata": {},
     "output_type": "execute_result"
    }
   ],
   "source": [
    "dct_model = DecisionTreeRegressor().fit(X_train,y_train)\n",
    "y_pred = dct_model.predict(X_test)\n",
    "mean_squared_error(y_test,y_pred)"
   ]
  },
  {
   "cell_type": "code",
   "execution_count": 235,
   "metadata": {},
   "outputs": [
    {
     "data": {
      "text/plain": [
       "229    16.0\n",
       "47     19.0\n",
       "277    16.2\n",
       "26     10.0\n",
       "180    25.0\n",
       "79     26.0\n",
       "268    27.2\n",
       "131    32.0\n",
       "156    16.0\n",
       "168    23.0\n",
       "317    34.3\n",
       "151    31.0\n",
       "266    30.0\n",
       "169    20.0\n",
       "74     13.0\n",
       "247    39.4\n",
       "306    28.8\n",
       "133    16.0\n",
       "51     30.0\n",
       "237    30.5\n",
       "257    19.4\n",
       "81     28.0\n",
       "233    29.0\n",
       "128    15.0\n",
       "32     25.0\n",
       "274    20.3\n",
       "46     22.0\n",
       "22     25.0\n",
       "210    19.0\n",
       "261    18.1\n",
       "34     16.0\n",
       "390    32.0\n",
       "206    26.5\n",
       "348    37.7\n",
       "38     14.0\n",
       "9      15.0\n",
       "308    33.5\n",
       "241    22.0\n",
       "276    21.6\n",
       "186    27.0\n",
       "33     19.0\n",
       "10     15.0\n",
       "240    30.5\n",
       "185    26.0\n",
       "150    26.0\n",
       "278    31.5\n",
       "145    32.0\n",
       "374    23.0\n",
       "86     14.0\n",
       "322    46.6\n",
       "362    24.2\n",
       "351    34.4\n",
       "239    30.0\n",
       "98     16.0\n",
       "49     23.0\n",
       "309    41.5\n",
       "220    33.5\n",
       "176    19.0\n",
       "52     30.0\n",
       "395    32.0\n",
       "Name: mpg, dtype: float64"
      ]
     },
     "execution_count": 235,
     "metadata": {},
     "output_type": "execute_result"
    }
   ],
   "source": [
    "y_test"
   ]
  },
  {
   "cell_type": "code",
   "execution_count": 236,
   "metadata": {},
   "outputs": [
    {
     "data": {
      "text/plain": [
       "array([15.5, 18. , 17. , 11. , 21.5, 26. , 21.1, 31. , 11. , 25. , 34.5,\n",
       "       26. , 36.1, 19. , 14. , 40.8, 23.5, 16. , 29. , 34.7, 20.6, 19. ,\n",
       "       26. , 19. , 28. , 23.2, 25. , 25. , 16.5, 19.9, 18. , 28.4, 27.5,\n",
       "       37. , 13. , 15. , 25.8, 24. , 23.2, 29. , 18. , 15. , 26. , 26. ,\n",
       "       26. , 26. , 31. , 24.3, 17. , 40.8, 25. , 36.1, 29.5, 18. , 21. ,\n",
       "       35.7, 31. , 19. , 28. , 36. ])"
      ]
     },
     "execution_count": 236,
     "metadata": {},
     "output_type": "execute_result"
    }
   ],
   "source": [
    "y_pred"
   ]
  },
  {
   "cell_type": "code",
   "execution_count": null,
   "metadata": {},
   "outputs": [],
   "source": []
  }
 ],
 "metadata": {
  "kernelspec": {
   "display_name": "Python 3.9.12 ('base')",
   "language": "python",
   "name": "python3"
  },
  "language_info": {
   "codemirror_mode": {
    "name": "ipython",
    "version": 3
   },
   "file_extension": ".py",
   "mimetype": "text/x-python",
   "name": "python",
   "nbconvert_exporter": "python",
   "pygments_lexer": "ipython3",
   "version": "3.9.12"
  },
  "orig_nbformat": 4,
  "vscode": {
   "interpreter": {
    "hash": "e44c804000e9fb9bb33e7c91d3efeca0ada907271a34dcf925338bdabcadf197"
   }
  }
 },
 "nbformat": 4,
 "nbformat_minor": 2
}
