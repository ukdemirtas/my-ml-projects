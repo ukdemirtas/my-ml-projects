{
 "cells": [
  {
   "cell_type": "code",
   "execution_count": 1,
   "id": "b6202d39-04d7-4b5c-98b3-fda35a5e2ccc",
   "metadata": {},
   "outputs": [],
   "source": [
    "import pandas as pd\n",
    "import numpy as np\n",
    "import seaborn as sns\n",
    "import matplotlib.pyplot as plt"
   ]
  },
  {
   "cell_type": "code",
   "execution_count": 2,
   "id": "9463c04b-b834-432a-8c5e-343fa6576f6e",
   "metadata": {},
   "outputs": [],
   "source": [
    "url =\"https://code.datasciencedojo.com/datasciencedojo/datasets/raw/master/Abalone/abalone.data.csv\""
   ]
  },
  {
   "cell_type": "code",
   "execution_count": 3,
   "id": "7f02d9b6-da69-4344-8351-3503055bb92b",
   "metadata": {},
   "outputs": [
    {
     "data": {
      "text/html": [
       "<div>\n",
       "<style scoped>\n",
       "    .dataframe tbody tr th:only-of-type {\n",
       "        vertical-align: middle;\n",
       "    }\n",
       "\n",
       "    .dataframe tbody tr th {\n",
       "        vertical-align: top;\n",
       "    }\n",
       "\n",
       "    .dataframe thead th {\n",
       "        text-align: right;\n",
       "    }\n",
       "</style>\n",
       "<table border=\"1\" class=\"dataframe\">\n",
       "  <thead>\n",
       "    <tr style=\"text-align: right;\">\n",
       "      <th></th>\n",
       "      <th>sex</th>\n",
       "      <th>length</th>\n",
       "      <th>diameter</th>\n",
       "      <th>height</th>\n",
       "      <th>whole_weight</th>\n",
       "      <th>shucked_weight</th>\n",
       "      <th>viscera_weight</th>\n",
       "      <th>shell_weight</th>\n",
       "      <th>rings</th>\n",
       "    </tr>\n",
       "  </thead>\n",
       "  <tbody>\n",
       "    <tr>\n",
       "      <th>0</th>\n",
       "      <td>M</td>\n",
       "      <td>0.455</td>\n",
       "      <td>0.365</td>\n",
       "      <td>0.095</td>\n",
       "      <td>0.5140</td>\n",
       "      <td>0.2245</td>\n",
       "      <td>0.1010</td>\n",
       "      <td>0.150</td>\n",
       "      <td>15</td>\n",
       "    </tr>\n",
       "    <tr>\n",
       "      <th>1</th>\n",
       "      <td>M</td>\n",
       "      <td>0.350</td>\n",
       "      <td>0.265</td>\n",
       "      <td>0.090</td>\n",
       "      <td>0.2255</td>\n",
       "      <td>0.0995</td>\n",
       "      <td>0.0485</td>\n",
       "      <td>0.070</td>\n",
       "      <td>7</td>\n",
       "    </tr>\n",
       "    <tr>\n",
       "      <th>2</th>\n",
       "      <td>F</td>\n",
       "      <td>0.530</td>\n",
       "      <td>0.420</td>\n",
       "      <td>0.135</td>\n",
       "      <td>0.6770</td>\n",
       "      <td>0.2565</td>\n",
       "      <td>0.1415</td>\n",
       "      <td>0.210</td>\n",
       "      <td>9</td>\n",
       "    </tr>\n",
       "    <tr>\n",
       "      <th>3</th>\n",
       "      <td>M</td>\n",
       "      <td>0.440</td>\n",
       "      <td>0.365</td>\n",
       "      <td>0.125</td>\n",
       "      <td>0.5160</td>\n",
       "      <td>0.2155</td>\n",
       "      <td>0.1140</td>\n",
       "      <td>0.155</td>\n",
       "      <td>10</td>\n",
       "    </tr>\n",
       "    <tr>\n",
       "      <th>4</th>\n",
       "      <td>I</td>\n",
       "      <td>0.330</td>\n",
       "      <td>0.255</td>\n",
       "      <td>0.080</td>\n",
       "      <td>0.2050</td>\n",
       "      <td>0.0895</td>\n",
       "      <td>0.0395</td>\n",
       "      <td>0.055</td>\n",
       "      <td>7</td>\n",
       "    </tr>\n",
       "  </tbody>\n",
       "</table>\n",
       "</div>"
      ],
      "text/plain": [
       "  sex  length  diameter  height  whole_weight  shucked_weight  viscera_weight  \\\n",
       "0   M   0.455     0.365   0.095        0.5140          0.2245          0.1010   \n",
       "1   M   0.350     0.265   0.090        0.2255          0.0995          0.0485   \n",
       "2   F   0.530     0.420   0.135        0.6770          0.2565          0.1415   \n",
       "3   M   0.440     0.365   0.125        0.5160          0.2155          0.1140   \n",
       "4   I   0.330     0.255   0.080        0.2050          0.0895          0.0395   \n",
       "\n",
       "   shell_weight  rings  \n",
       "0         0.150     15  \n",
       "1         0.070      7  \n",
       "2         0.210      9  \n",
       "3         0.155     10  \n",
       "4         0.055      7  "
      ]
     },
     "execution_count": 3,
     "metadata": {},
     "output_type": "execute_result"
    }
   ],
   "source": [
    "df = pd.read_csv(url,names = [\"sex\",\"length\",\"diameter\",\"height\",\"whole_weight\",\"shucked_weight\",\"viscera_weight\",\"shell_weight\",\"rings\"])\n",
    "df.head()"
   ]
  },
  {
   "cell_type": "code",
   "execution_count": 4,
   "id": "befb9f20-125f-4924-84c6-7bcd4435194e",
   "metadata": {},
   "outputs": [
    {
     "data": {
      "text/plain": [
       "(4177, 9)"
      ]
     },
     "execution_count": 4,
     "metadata": {},
     "output_type": "execute_result"
    }
   ],
   "source": [
    "df.shape"
   ]
  },
  {
   "cell_type": "code",
   "execution_count": 5,
   "id": "bd66b7b1-1a51-4890-9946-91a5178833b8",
   "metadata": {},
   "outputs": [
    {
     "data": {
      "text/plain": [
       "sex               0\n",
       "length            0\n",
       "diameter          0\n",
       "height            0\n",
       "whole_weight      0\n",
       "shucked_weight    0\n",
       "viscera_weight    0\n",
       "shell_weight      0\n",
       "rings             0\n",
       "dtype: int64"
      ]
     },
     "execution_count": 5,
     "metadata": {},
     "output_type": "execute_result"
    }
   ],
   "source": [
    "df.isna().sum()"
   ]
  },
  {
   "cell_type": "code",
   "execution_count": 104,
   "id": "21e41735-2224-4c20-9769-4eb7c8ca4018",
   "metadata": {},
   "outputs": [
    {
     "data": {
      "text/plain": [
       "M    1528\n",
       "I    1342\n",
       "F    1307\n",
       "Name: sex, dtype: int64"
      ]
     },
     "execution_count": 104,
     "metadata": {},
     "output_type": "execute_result"
    }
   ],
   "source": [
    "df.sex.value_counts()"
   ]
  },
  {
   "cell_type": "code",
   "execution_count": 6,
   "id": "af93e0d1",
   "metadata": {},
   "outputs": [
    {
     "data": {
      "text/html": [
       "<div>\n",
       "<style scoped>\n",
       "    .dataframe tbody tr th:only-of-type {\n",
       "        vertical-align: middle;\n",
       "    }\n",
       "\n",
       "    .dataframe tbody tr th {\n",
       "        vertical-align: top;\n",
       "    }\n",
       "\n",
       "    .dataframe thead th {\n",
       "        text-align: right;\n",
       "    }\n",
       "</style>\n",
       "<table border=\"1\" class=\"dataframe\">\n",
       "  <thead>\n",
       "    <tr style=\"text-align: right;\">\n",
       "      <th></th>\n",
       "      <th>sex</th>\n",
       "      <th>length</th>\n",
       "      <th>diameter</th>\n",
       "      <th>height</th>\n",
       "      <th>whole_weight</th>\n",
       "      <th>shucked_weight</th>\n",
       "      <th>viscera_weight</th>\n",
       "      <th>shell_weight</th>\n",
       "      <th>rings</th>\n",
       "    </tr>\n",
       "  </thead>\n",
       "  <tbody>\n",
       "    <tr>\n",
       "      <th>0</th>\n",
       "      <td>M</td>\n",
       "      <td>0.455</td>\n",
       "      <td>0.365</td>\n",
       "      <td>0.095</td>\n",
       "      <td>0.5140</td>\n",
       "      <td>0.2245</td>\n",
       "      <td>0.1010</td>\n",
       "      <td>0.150</td>\n",
       "      <td>15</td>\n",
       "    </tr>\n",
       "    <tr>\n",
       "      <th>1</th>\n",
       "      <td>M</td>\n",
       "      <td>0.350</td>\n",
       "      <td>0.265</td>\n",
       "      <td>0.090</td>\n",
       "      <td>0.2255</td>\n",
       "      <td>0.0995</td>\n",
       "      <td>0.0485</td>\n",
       "      <td>0.070</td>\n",
       "      <td>7</td>\n",
       "    </tr>\n",
       "    <tr>\n",
       "      <th>2</th>\n",
       "      <td>F</td>\n",
       "      <td>0.530</td>\n",
       "      <td>0.420</td>\n",
       "      <td>0.135</td>\n",
       "      <td>0.6770</td>\n",
       "      <td>0.2565</td>\n",
       "      <td>0.1415</td>\n",
       "      <td>0.210</td>\n",
       "      <td>9</td>\n",
       "    </tr>\n",
       "    <tr>\n",
       "      <th>3</th>\n",
       "      <td>M</td>\n",
       "      <td>0.440</td>\n",
       "      <td>0.365</td>\n",
       "      <td>0.125</td>\n",
       "      <td>0.5160</td>\n",
       "      <td>0.2155</td>\n",
       "      <td>0.1140</td>\n",
       "      <td>0.155</td>\n",
       "      <td>10</td>\n",
       "    </tr>\n",
       "    <tr>\n",
       "      <th>4</th>\n",
       "      <td>I</td>\n",
       "      <td>0.330</td>\n",
       "      <td>0.255</td>\n",
       "      <td>0.080</td>\n",
       "      <td>0.2050</td>\n",
       "      <td>0.0895</td>\n",
       "      <td>0.0395</td>\n",
       "      <td>0.055</td>\n",
       "      <td>7</td>\n",
       "    </tr>\n",
       "  </tbody>\n",
       "</table>\n",
       "</div>"
      ],
      "text/plain": [
       "  sex  length  diameter  height  whole_weight  shucked_weight  viscera_weight  \\\n",
       "0   M   0.455     0.365   0.095        0.5140          0.2245          0.1010   \n",
       "1   M   0.350     0.265   0.090        0.2255          0.0995          0.0485   \n",
       "2   F   0.530     0.420   0.135        0.6770          0.2565          0.1415   \n",
       "3   M   0.440     0.365   0.125        0.5160          0.2155          0.1140   \n",
       "4   I   0.330     0.255   0.080        0.2050          0.0895          0.0395   \n",
       "\n",
       "   shell_weight  rings  \n",
       "0         0.150     15  \n",
       "1         0.070      7  \n",
       "2         0.210      9  \n",
       "3         0.155     10  \n",
       "4         0.055      7  "
      ]
     },
     "execution_count": 6,
     "metadata": {},
     "output_type": "execute_result"
    }
   ],
   "source": [
    "df.head()"
   ]
  },
  {
   "cell_type": "code",
   "execution_count": 114,
   "id": "af5bfa16",
   "metadata": {},
   "outputs": [
    {
     "data": {
      "text/plain": [
       "<AxesSubplot:xlabel='sex', ylabel='rings'>"
      ]
     },
     "execution_count": 114,
     "metadata": {},
     "output_type": "execute_result"
    },
    {
     "data": {
      "image/png": "[encoded data removed]",
      "text/plain": [
       "<Figure size 432x288 with 1 Axes>"
      ]
     },
     "metadata": {
      "needs_background": "light"
     },
     "output_type": "display_data"
    }
   ],
   "source": [
    "sns.boxplot(data=df,x=\"sex\",y=\"rings\")"
   ]
  },
  {
   "cell_type": "code",
   "execution_count": 116,
   "id": "d9cfa755",
   "metadata": {},
   "outputs": [
    {
     "data": {
      "text/html": [
       "<div>\n",
       "<style scoped>\n",
       "    .dataframe tbody tr th:only-of-type {\n",
       "        vertical-align: middle;\n",
       "    }\n",
       "\n",
       "    .dataframe tbody tr th {\n",
       "        vertical-align: top;\n",
       "    }\n",
       "\n",
       "    .dataframe thead th {\n",
       "        text-align: right;\n",
       "    }\n",
       "</style>\n",
       "<table border=\"1\" class=\"dataframe\">\n",
       "  <thead>\n",
       "    <tr style=\"text-align: right;\">\n",
       "      <th></th>\n",
       "      <th>sex</th>\n",
       "      <th>length</th>\n",
       "      <th>diameter</th>\n",
       "      <th>height</th>\n",
       "      <th>whole_weight</th>\n",
       "      <th>shucked_weight</th>\n",
       "      <th>viscera_weight</th>\n",
       "      <th>shell_weight</th>\n",
       "      <th>rings</th>\n",
       "    </tr>\n",
       "  </thead>\n",
       "  <tbody>\n",
       "    <tr>\n",
       "      <th>0</th>\n",
       "      <td>M</td>\n",
       "      <td>0.455</td>\n",
       "      <td>0.365</td>\n",
       "      <td>0.095</td>\n",
       "      <td>0.5140</td>\n",
       "      <td>0.2245</td>\n",
       "      <td>0.1010</td>\n",
       "      <td>0.1500</td>\n",
       "      <td>15</td>\n",
       "    </tr>\n",
       "    <tr>\n",
       "      <th>1</th>\n",
       "      <td>M</td>\n",
       "      <td>0.350</td>\n",
       "      <td>0.265</td>\n",
       "      <td>0.090</td>\n",
       "      <td>0.2255</td>\n",
       "      <td>0.0995</td>\n",
       "      <td>0.0485</td>\n",
       "      <td>0.0700</td>\n",
       "      <td>7</td>\n",
       "    </tr>\n",
       "    <tr>\n",
       "      <th>3</th>\n",
       "      <td>M</td>\n",
       "      <td>0.440</td>\n",
       "      <td>0.365</td>\n",
       "      <td>0.125</td>\n",
       "      <td>0.5160</td>\n",
       "      <td>0.2155</td>\n",
       "      <td>0.1140</td>\n",
       "      <td>0.1550</td>\n",
       "      <td>10</td>\n",
       "    </tr>\n",
       "    <tr>\n",
       "      <th>8</th>\n",
       "      <td>M</td>\n",
       "      <td>0.475</td>\n",
       "      <td>0.370</td>\n",
       "      <td>0.125</td>\n",
       "      <td>0.5095</td>\n",
       "      <td>0.2165</td>\n",
       "      <td>0.1125</td>\n",
       "      <td>0.1650</td>\n",
       "      <td>9</td>\n",
       "    </tr>\n",
       "    <tr>\n",
       "      <th>11</th>\n",
       "      <td>M</td>\n",
       "      <td>0.430</td>\n",
       "      <td>0.350</td>\n",
       "      <td>0.110</td>\n",
       "      <td>0.4060</td>\n",
       "      <td>0.1675</td>\n",
       "      <td>0.0810</td>\n",
       "      <td>0.1350</td>\n",
       "      <td>10</td>\n",
       "    </tr>\n",
       "    <tr>\n",
       "      <th>...</th>\n",
       "      <td>...</td>\n",
       "      <td>...</td>\n",
       "      <td>...</td>\n",
       "      <td>...</td>\n",
       "      <td>...</td>\n",
       "      <td>...</td>\n",
       "      <td>...</td>\n",
       "      <td>...</td>\n",
       "      <td>...</td>\n",
       "    </tr>\n",
       "    <tr>\n",
       "      <th>4170</th>\n",
       "      <td>M</td>\n",
       "      <td>0.550</td>\n",
       "      <td>0.430</td>\n",
       "      <td>0.130</td>\n",
       "      <td>0.8395</td>\n",
       "      <td>0.3155</td>\n",
       "      <td>0.1955</td>\n",
       "      <td>0.2405</td>\n",
       "      <td>10</td>\n",
       "    </tr>\n",
       "    <tr>\n",
       "      <th>4171</th>\n",
       "      <td>M</td>\n",
       "      <td>0.560</td>\n",
       "      <td>0.430</td>\n",
       "      <td>0.155</td>\n",
       "      <td>0.8675</td>\n",
       "      <td>0.4000</td>\n",
       "      <td>0.1720</td>\n",
       "      <td>0.2290</td>\n",
       "      <td>8</td>\n",
       "    </tr>\n",
       "    <tr>\n",
       "      <th>4173</th>\n",
       "      <td>M</td>\n",
       "      <td>0.590</td>\n",
       "      <td>0.440</td>\n",
       "      <td>0.135</td>\n",
       "      <td>0.9660</td>\n",
       "      <td>0.4390</td>\n",
       "      <td>0.2145</td>\n",
       "      <td>0.2605</td>\n",
       "      <td>10</td>\n",
       "    </tr>\n",
       "    <tr>\n",
       "      <th>4174</th>\n",
       "      <td>M</td>\n",
       "      <td>0.600</td>\n",
       "      <td>0.475</td>\n",
       "      <td>0.205</td>\n",
       "      <td>1.1760</td>\n",
       "      <td>0.5255</td>\n",
       "      <td>0.2875</td>\n",
       "      <td>0.3080</td>\n",
       "      <td>9</td>\n",
       "    </tr>\n",
       "    <tr>\n",
       "      <th>4176</th>\n",
       "      <td>M</td>\n",
       "      <td>0.710</td>\n",
       "      <td>0.555</td>\n",
       "      <td>0.195</td>\n",
       "      <td>1.9485</td>\n",
       "      <td>0.9455</td>\n",
       "      <td>0.3765</td>\n",
       "      <td>0.4950</td>\n",
       "      <td>12</td>\n",
       "    </tr>\n",
       "  </tbody>\n",
       "</table>\n",
       "<p>1528 rows × 9 columns</p>\n",
       "</div>"
      ],
      "text/plain": [
       "     sex  length  diameter  height  whole_weight  shucked_weight  \\\n",
       "0      M   0.455     0.365   0.095        0.5140          0.2245   \n",
       "1      M   0.350     0.265   0.090        0.2255          0.0995   \n",
       "3      M   0.440     0.365   0.125        0.5160          0.2155   \n",
       "8      M   0.475     0.370   0.125        0.5095          0.2165   \n",
       "11     M   0.430     0.350   0.110        0.4060          0.1675   \n",
       "...   ..     ...       ...     ...           ...             ...   \n",
       "4170   M   0.550     0.430   0.130        0.8395          0.3155   \n",
       "4171   M   0.560     0.430   0.155        0.8675          0.4000   \n",
       "4173   M   0.590     0.440   0.135        0.9660          0.4390   \n",
       "4174   M   0.600     0.475   0.205        1.1760          0.5255   \n",
       "4176   M   0.710     0.555   0.195        1.9485          0.9455   \n",
       "\n",
       "      viscera_weight  shell_weight  rings  \n",
       "0             0.1010        0.1500     15  \n",
       "1             0.0485        0.0700      7  \n",
       "3             0.1140        0.1550     10  \n",
       "8             0.1125        0.1650      9  \n",
       "11            0.0810        0.1350     10  \n",
       "...              ...           ...    ...  \n",
       "4170          0.1955        0.2405     10  \n",
       "4171          0.1720        0.2290      8  \n",
       "4173          0.2145        0.2605     10  \n",
       "4174          0.2875        0.3080      9  \n",
       "4176          0.3765        0.4950     12  \n",
       "\n",
       "[1528 rows x 9 columns]"
      ]
     },
     "execution_count": 116,
     "metadata": {},
     "output_type": "execute_result"
    }
   ],
   "source": [
    "df[df.sex==\"M\"]"
   ]
  },
  {
   "cell_type": "code",
   "execution_count": 69,
   "id": "65889104",
   "metadata": {},
   "outputs": [
    {
     "data": {
      "text/plain": [
       "M    1528\n",
       "I    1342\n",
       "F    1307\n",
       "Name: sex, dtype: int64"
      ]
     },
     "execution_count": 69,
     "metadata": {},
     "output_type": "execute_result"
    }
   ],
   "source": [
    "df.sex.value_counts()"
   ]
  },
  {
   "cell_type": "code",
   "execution_count": 70,
   "id": "88d9b191",
   "metadata": {},
   "outputs": [],
   "source": [
    "from sklearn.preprocessing import LabelEncoder"
   ]
  },
  {
   "cell_type": "code",
   "execution_count": 71,
   "id": "f3a3c577",
   "metadata": {},
   "outputs": [],
   "source": [
    "label_encoder = LabelEncoder()"
   ]
  },
  {
   "cell_type": "code",
   "execution_count": 72,
   "id": "c4bf19eb",
   "metadata": {},
   "outputs": [],
   "source": [
    "df.sex = label_encoder.fit_transform(df.sex)"
   ]
  },
  {
   "cell_type": "code",
   "execution_count": 73,
   "id": "47c263b6",
   "metadata": {},
   "outputs": [
    {
     "data": {
      "text/plain": [
       "2    1528\n",
       "1    1342\n",
       "0    1307\n",
       "Name: sex, dtype: int64"
      ]
     },
     "execution_count": 73,
     "metadata": {},
     "output_type": "execute_result"
    }
   ],
   "source": [
    "df.sex.value_counts()\n",
    "# F -- 0\n",
    "# I -- 1\n",
    "# M -- 2"
   ]
  },
  {
   "cell_type": "code",
   "execution_count": 74,
   "id": "864feb63",
   "metadata": {},
   "outputs": [],
   "source": [
    "X=df.drop(columns=[\"rings\"])\n",
    "y=df.rings"
   ]
  },
  {
   "cell_type": "code",
   "execution_count": 86,
   "id": "47c2169a",
   "metadata": {},
   "outputs": [],
   "source": [
    "from sklearn.model_selection import train_test_split"
   ]
  },
  {
   "cell_type": "code",
   "execution_count": 76,
   "id": "1aa39692",
   "metadata": {},
   "outputs": [],
   "source": [
    "X_train, X_test, y_train, y_test = train_test_split(X,y,test_size = 0.15)"
   ]
  },
  {
   "cell_type": "code",
   "execution_count": 77,
   "id": "37d710cf",
   "metadata": {},
   "outputs": [],
   "source": [
    "from sklearn.linear_model import SGDRegressor\n",
    "from sklearn.linear_model import ElasticNet"
   ]
  },
  {
   "cell_type": "code",
   "execution_count": 78,
   "id": "3f397a06",
   "metadata": {},
   "outputs": [],
   "source": [
    "sgd_model = SGDRegressor().fit(X_train,y_train)"
   ]
  },
  {
   "cell_type": "code",
   "execution_count": 79,
   "id": "3ab4e006",
   "metadata": {},
   "outputs": [],
   "source": [
    "y_pred = sgd_model.predict(X_test)"
   ]
  },
  {
   "cell_type": "code",
   "execution_count": 80,
   "id": "433e8e4b",
   "metadata": {},
   "outputs": [],
   "source": [
    "from sklearn.metrics import mean_squared_error, accuracy_score"
   ]
  },
  {
   "cell_type": "code",
   "execution_count": 81,
   "id": "3ff1d431",
   "metadata": {},
   "outputs": [
    {
     "data": {
      "text/plain": [
       "4.827072750706231"
      ]
     },
     "execution_count": 81,
     "metadata": {},
     "output_type": "execute_result"
    }
   ],
   "source": [
    "mean_squared_error(y_test,y_pred)"
   ]
  },
  {
   "cell_type": "code",
   "execution_count": 83,
   "id": "fdee3f13",
   "metadata": {},
   "outputs": [
    {
     "data": {
      "text/plain": [
       "array([ 9.82058608, 12.1669937 ,  7.67720698,  9.10336799,  9.08035035,\n",
       "        7.95754351, 10.327138  ,  7.81096083,  7.77986867, 10.86047484,\n",
       "       11.91377988,  7.40618701,  8.84353003,  9.90533973,  8.49765939,\n",
       "       10.91341856,  6.7465093 ,  8.41290806, 10.39973206,  8.36742935,\n",
       "        9.60580206,  7.92477014, 12.01146737,  9.35140859, 10.31951242,\n",
       "        9.09638052, 10.64444742, 12.26758132, 10.8963909 ,  8.17070493,\n",
       "       12.84705431,  9.2545114 ,  9.73443591, 10.29559638,  8.59286285,\n",
       "        9.1657234 ,  8.87755804, 11.91890058,  8.81962633,  7.79471557,\n",
       "       11.4112517 ,  5.59214202,  9.16787858, 10.84351099,  9.1861478 ,\n",
       "       11.85703376,  9.54450439, 10.59086756, 12.68860506, 10.52285545,\n",
       "       10.64264111,  8.74118261,  8.80369596,  9.04480833,  7.58317583,\n",
       "        5.75608431,  9.12898884,  6.17066282, 11.13667649, 10.08731014,\n",
       "        6.08061304,  9.27486731, 13.95697393, 11.82729604,  8.89646295,\n",
       "       12.27817601, 12.03703952, 12.21097616, 11.75390352,  8.99874751,\n",
       "       10.40223244,  8.2679077 ,  6.94965302,  8.40647447, 11.20047806,\n",
       "       12.37781095, 10.97815591,  7.52330861, 11.46114187,  8.86845591,\n",
       "       11.98301216, 10.78862058,  6.42455878,  7.33897649,  9.41012116,\n",
       "        7.79136802,  9.91987989,  7.38609333,  7.64033145,  9.72515178,\n",
       "       11.38442888, 10.04564731, 12.93318793,  7.2949131 , 10.5708633 ,\n",
       "       12.44040671,  5.68338588,  9.57798302, 11.77554225, 12.0311359 ,\n",
       "       11.60346982,  9.85256948, 10.01869625, 11.49812902, 12.72808308,\n",
       "       14.76773302, 10.43287388, 10.32261016,  8.84165422, 10.74534479,\n",
       "       11.12960955,  9.72663218,  9.67591157, 11.04710387, 11.19202688,\n",
       "       10.79219696, 10.11757716,  9.77634149,  8.82460731, 10.34740971,\n",
       "       13.2963326 ,  9.69153019, 11.37896118,  9.41479624,  9.30722984,\n",
       "       11.06114337, 11.51078941, 11.24166652,  9.64560924, 11.36759004,\n",
       "        6.94476529, 13.80207496,  9.81125139, 10.63940561, 11.92361685,\n",
       "       15.78954916,  8.06501764,  7.5554455 ,  9.60309817, 11.98802202,\n",
       "        6.79153645, 12.24749148,  8.67513069, 13.26771401, 12.64278018,\n",
       "       13.50443733, 10.31763676,  5.71556283, 10.90519382,  7.29840718,\n",
       "        9.74554859,  7.70841919,  9.3043785 ,  9.1491836 , 10.81216192,\n",
       "       11.45525763,  6.56235763, 10.31400149,  8.00331012,  8.65166364,\n",
       "        8.28322011,  9.29569623, 11.57519331, 11.15340597,  8.25520551,\n",
       "        9.69815345,  8.68326958,  9.83846781,  7.60274938,  7.16236077,\n",
       "       11.53590947,  7.9758579 ,  8.80637406,  7.6096047 , 13.18088799,\n",
       "       18.3437745 ,  8.94892213,  7.84119554, 10.94499875,  7.58994988,\n",
       "       13.49555449,  6.48829593,  7.69058632,  8.50725561,  9.62511905,\n",
       "        5.53436079, 11.09127735,  9.74188823,  8.17099219, 10.18727018,\n",
       "       11.66045373,  9.82952618, 12.22196072,  8.61145342, 10.25115124,\n",
       "        9.39557937,  9.27306547,  8.89194151, 10.76452984,  7.96999545,\n",
       "        9.17958489, 12.26920314, 10.77265711,  7.06058844,  8.75236612,\n",
       "       11.98741769, 11.23288148,  9.73170378, 15.40994786,  9.22777043,\n",
       "        7.70587713,  9.0956274 ,  9.50548602, 10.87286193,  8.70593679,\n",
       "       10.70220311,  6.59747537, 11.08944153, 10.7967254 ,  8.74038036,\n",
       "       10.04020982, 12.20506231, 11.39871241, 11.94255578, 11.37507175,\n",
       "       10.55184413,  9.80570574, 10.09137606,  9.58892544,  9.59156839,\n",
       "        7.32915827, 10.0312629 ,  7.69335479, 10.79653433,  9.66960835,\n",
       "        7.01707869, 10.02612186, 10.10053985,  7.79129435,  8.54035495,\n",
       "       10.77559746, 12.97525155, 10.5275648 , 11.7233595 , 11.4816648 ,\n",
       "       11.92605164,  7.26475059, 12.33257154, 13.80437293, 11.15257842,\n",
       "       12.21646978,  7.02888785, 10.85033407, 10.23513886, 10.04700935,\n",
       "        9.71033488, 10.39852496, 14.98801088,  8.46409127,  5.21182099,\n",
       "       11.4986829 ,  6.90777585, 11.63894096,  7.72626163,  9.56356105,\n",
       "        7.37889544,  8.95379973,  7.46194529,  9.94131521,  9.92419945,\n",
       "       14.28951789, 10.52800653, 11.1409876 , 10.51293604, 10.41370212,\n",
       "        8.6443177 ,  7.69001331, 10.03537263, 12.85124864,  8.74250438,\n",
       "       11.00564815, 11.8518453 ,  7.57662922,  9.76936744, 10.8418002 ,\n",
       "        6.39827241, 12.94621509,  9.96537372,  8.30390977,  9.86221865,\n",
       "       10.79131329,  9.14688616, 11.87530226,  9.16810652, 12.25470966,\n",
       "       10.719475  ,  6.31610571,  9.43488629, 12.42489335,  7.71552159,\n",
       "        9.40317508, 10.83342768,  7.49498078,  9.86414493,  9.87974322,\n",
       "        9.77690423,  8.22886668,  6.85059199,  9.35029555,  9.61000535,\n",
       "        6.6204028 ,  8.7756111 ,  7.3450356 ,  6.4260262 , 11.21429469,\n",
       "        8.46009228, 11.13279481,  8.59712253, 11.76358555, 12.95620958,\n",
       "        9.56974343,  9.8388296 ,  8.81648437,  7.61019681, 11.21436981,\n",
       "        9.91738291,  9.81543936,  7.65534226, 15.62798112,  8.00214398,\n",
       "        9.82896153, 10.87573572, 10.70617597, 10.61407808, 12.68172986,\n",
       "       11.38342578,  9.63700551, 10.63961224,  9.5925797 ,  8.82442009,\n",
       "        2.10495044,  9.93797902, 10.47909519, 12.66621087, 12.12421663,\n",
       "       11.17871057,  9.60675808,  9.62562648,  7.25881652, 10.09760129,\n",
       "        8.72876279,  6.84961592,  7.96053778, 11.48847922,  8.172397  ,\n",
       "       11.33667378,  9.30024081, 10.89325031,  8.27841502, 10.80760071,\n",
       "       11.72893811, 11.79828138, 11.43755957, 11.70176862, 14.43050219,\n",
       "        9.49285334,  7.05793193,  9.60842663, 11.2033835 , 11.37691168,\n",
       "       11.26712213, 10.68564723,  9.19008955, 10.1527053 , 10.59384885,\n",
       "        7.25344402, 11.4296783 , 10.79182766, 10.21562608, 10.04239087,\n",
       "       10.14030288, 12.11394418, 10.91575405, 10.90610308, 11.45624825,\n",
       "        9.26174774,  8.78077083,  8.65804557,  8.66400925, 10.85249363,\n",
       "        9.51561148, 10.41209783, 12.21398196, 10.86766353,  8.06253281,\n",
       "       10.0221594 ,  9.85838852,  9.40664905,  7.19942694, 10.95179231,\n",
       "       11.17615375, 10.31101561, 11.15854691, 10.72679358, 11.91176029,\n",
       "        9.42729328, 10.27049216, 13.10327753, 11.49761934, 11.40073833,\n",
       "        8.25402796, 10.43646147,  9.60286001, 11.64142485,  5.60656901,\n",
       "       11.46979626,  8.23673424,  6.65393084,  9.99869489,  5.77053194,\n",
       "       10.37184424,  7.69452955,  5.69159934,  9.9078799 ,  9.93563519,\n",
       "       11.04636549,  8.88785909, 13.59435554,  9.10906419, 11.44531353,\n",
       "        6.73290172, 11.60568102,  7.15703351,  9.46785779, 11.0847655 ,\n",
       "       11.75590106,  9.21951402, 11.38772812,  7.64636599, 11.34960323,\n",
       "       12.33217181,  8.67906133, 10.53662918,  8.90309457, 11.04298839,\n",
       "        7.5555622 ,  7.97081103,  9.32263423,  7.26179699,  6.1833955 ,\n",
       "       10.54665909,  9.13783523,  6.1040297 , 11.89655539, 11.31396699,\n",
       "       11.94259604, 13.56939421,  8.79048729,  8.92249132,  9.68094654,\n",
       "        9.68408209, 16.16613673,  8.59664248, 13.80799601,  7.4146209 ,\n",
       "        7.61707266,  9.60299824,  8.69504444,  8.20273828,  9.09639307,\n",
       "        9.42592801, 10.16490672,  9.8450927 , 10.04552336,  7.86671927,\n",
       "        8.96030984, 14.15715966,  9.06159085, 10.36955359, 12.09114289,\n",
       "       11.05342119,  7.12032753, 10.59215073, 11.23934042, 10.32938487,\n",
       "        8.92300109, 12.4834391 ,  6.44512384, 11.00964706,  9.84804196,\n",
       "       11.32862241, 13.56011797,  7.43092003, 13.31803896, 11.62453773,\n",
       "        9.17129222,  9.78779228,  8.72254704,  7.73807176, 10.3394796 ,\n",
       "       10.09700007,  7.33814036, 11.61994173,  7.83779299, 12.30904296,\n",
       "       10.34601159,  6.76963601,  8.79189389,  7.03638648,  7.85290344,\n",
       "       11.436425  , 11.58422311,  9.28420331, 10.59218922,  8.74217682,\n",
       "        7.95312078,  8.09506882,  6.22118109, 10.1639058 ,  9.1697606 ,\n",
       "       10.09226336, 10.83769173,  9.09925585, 12.64749061, 11.10214284,\n",
       "        8.97272676,  7.5809381 ,  9.11246082,  9.30208878,  9.27963088,\n",
       "       10.55093476,  9.80879276,  9.91418406, 11.81746488, 11.27818685,\n",
       "       11.44772667,  7.74943692, 12.72656784,  9.43470735, 10.76347639,\n",
       "        7.71150015,  8.99733697,  9.10600842, 12.89302752,  9.76403287,\n",
       "       15.62706641, 10.46921635, 11.13134759, 11.82822101, 10.66943957,\n",
       "        9.11209105,  7.80287386,  9.95206049, 10.74417936, 12.84613298,\n",
       "       11.09772444,  8.37524764,  9.59560017, 12.12131921,  8.64297269,\n",
       "       10.83741494, 10.85671089, 11.37845329, 12.76162008,  9.81063505,\n",
       "        8.30023986, 11.70631029,  9.88793864,  7.07437955, 11.99925448,\n",
       "        9.0882986 ,  8.55711523,  9.24160452,  5.60640706,  6.32593665,\n",
       "        7.01304997,  9.37065491, 11.46713527, 10.22490568,  9.60663825,\n",
       "        7.44613237, 11.78059783, 12.3831042 , 10.36947766,  7.04106782,\n",
       "       11.85635946,  6.8286392 ,  8.52421769, 13.06040948, 10.82941904,\n",
       "        8.27558475,  9.57353112,  7.66948078, 13.47254781,  7.98976475,\n",
       "        8.8564171 , 10.89680327,  9.5956776 , 10.26496788,  8.48440882,\n",
       "       13.553989  , 10.0085182 ,  7.9664084 , 10.10678536,  8.9150004 ,\n",
       "       10.45346914, 12.03087947, 12.31626577, 10.46229943,  9.93599969,\n",
       "        7.72162171,  8.42573018, 14.32642917,  9.02511672,  9.8898405 ,\n",
       "       11.34158891, 12.5777342 ,  8.97668333,  9.82040456,  9.55961621,\n",
       "       10.24507348,  7.57313174,  7.01197151, 10.16822495, 10.12421346,\n",
       "        8.31709355, 11.13628938])"
      ]
     },
     "execution_count": 83,
     "metadata": {},
     "output_type": "execute_result"
    }
   ],
   "source": [
    "y_pred"
   ]
  },
  {
   "cell_type": "code",
   "execution_count": null,
   "id": "6830fb8a",
   "metadata": {},
   "outputs": [],
   "source": []
  }
 ],
 "metadata": {
  "kernelspec": {
   "display_name": "Python 3.9.12 ('base')",
   "language": "python",
   "name": "python3"
  },
  "language_info": {
   "codemirror_mode": {
    "name": "ipython",
    "version": 3
   },
   "file_extension": ".py",
   "mimetype": "text/x-python",
   "name": "python",
   "nbconvert_exporter": "python",
   "pygments_lexer": "ipython3",
   "version": "3.9.12"
  },
  "vscode": {
   "interpreter": {
    "hash": "e44c804000e9fb9bb33e7c91d3efeca0ada907271a34dcf925338bdabcadf197"
   }
  }
 },
 "nbformat": 4,
 "nbformat_minor": 5
}
