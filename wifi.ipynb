{
 "cells": [
  {
   "cell_type": "code",
   "execution_count": 3,
   "metadata": {},
   "outputs": [],
   "source": [
    "import pandas as pd\n",
    "import numpy as np"
   ]
  },
  {
   "cell_type": "code",
   "execution_count": 4,
   "metadata": {},
   "outputs": [],
   "source": [
    "url = \"https://code.datasciencedojo.com/datasciencedojo/datasets/raw/master/Wireless%20Indoor%20Localization/wifi_localization.txt\""
   ]
  },
  {
   "cell_type": "code",
   "execution_count": 11,
   "metadata": {},
   "outputs": [],
   "source": [
    "df = pd.read_csv(url,sep=\"\\t\",names=[1,2,3,4,5,6,7,\"room\"])"
   ]
  },
  {
   "cell_type": "code",
   "execution_count": 12,
   "metadata": {},
   "outputs": [
    {
     "data": {
      "text/html": [
       "<div>\n",
       "<style scoped>\n",
       "    .dataframe tbody tr th:only-of-type {\n",
       "        vertical-align: middle;\n",
       "    }\n",
       "\n",
       "    .dataframe tbody tr th {\n",
       "        vertical-align: top;\n",
       "    }\n",
       "\n",
       "    .dataframe thead th {\n",
       "        text-align: right;\n",
       "    }\n",
       "</style>\n",
       "<table border=\"1\" class=\"dataframe\">\n",
       "  <thead>\n",
       "    <tr style=\"text-align: right;\">\n",
       "      <th></th>\n",
       "      <th>1</th>\n",
       "      <th>2</th>\n",
       "      <th>3</th>\n",
       "      <th>4</th>\n",
       "      <th>5</th>\n",
       "      <th>6</th>\n",
       "      <th>7</th>\n",
       "      <th>room</th>\n",
       "    </tr>\n",
       "  </thead>\n",
       "  <tbody>\n",
       "    <tr>\n",
       "      <th>0</th>\n",
       "      <td>-64</td>\n",
       "      <td>-56</td>\n",
       "      <td>-61</td>\n",
       "      <td>-66</td>\n",
       "      <td>-71</td>\n",
       "      <td>-82</td>\n",
       "      <td>-81</td>\n",
       "      <td>1</td>\n",
       "    </tr>\n",
       "    <tr>\n",
       "      <th>1</th>\n",
       "      <td>-68</td>\n",
       "      <td>-57</td>\n",
       "      <td>-61</td>\n",
       "      <td>-65</td>\n",
       "      <td>-71</td>\n",
       "      <td>-85</td>\n",
       "      <td>-85</td>\n",
       "      <td>1</td>\n",
       "    </tr>\n",
       "    <tr>\n",
       "      <th>2</th>\n",
       "      <td>-63</td>\n",
       "      <td>-60</td>\n",
       "      <td>-60</td>\n",
       "      <td>-67</td>\n",
       "      <td>-76</td>\n",
       "      <td>-85</td>\n",
       "      <td>-84</td>\n",
       "      <td>1</td>\n",
       "    </tr>\n",
       "    <tr>\n",
       "      <th>3</th>\n",
       "      <td>-61</td>\n",
       "      <td>-60</td>\n",
       "      <td>-68</td>\n",
       "      <td>-62</td>\n",
       "      <td>-77</td>\n",
       "      <td>-90</td>\n",
       "      <td>-80</td>\n",
       "      <td>1</td>\n",
       "    </tr>\n",
       "    <tr>\n",
       "      <th>4</th>\n",
       "      <td>-63</td>\n",
       "      <td>-65</td>\n",
       "      <td>-60</td>\n",
       "      <td>-63</td>\n",
       "      <td>-77</td>\n",
       "      <td>-81</td>\n",
       "      <td>-87</td>\n",
       "      <td>1</td>\n",
       "    </tr>\n",
       "  </tbody>\n",
       "</table>\n",
       "</div>"
      ],
      "text/plain": [
       "    1   2   3   4   5   6   7  room\n",
       "0 -64 -56 -61 -66 -71 -82 -81     1\n",
       "1 -68 -57 -61 -65 -71 -85 -85     1\n",
       "2 -63 -60 -60 -67 -76 -85 -84     1\n",
       "3 -61 -60 -68 -62 -77 -90 -80     1\n",
       "4 -63 -65 -60 -63 -77 -81 -87     1"
      ]
     },
     "execution_count": 12,
     "metadata": {},
     "output_type": "execute_result"
    }
   ],
   "source": [
    "df.head()"
   ]
  },
  {
   "cell_type": "code",
   "execution_count": 13,
   "metadata": {},
   "outputs": [
    {
     "data": {
      "text/plain": [
       "(2000, 8)"
      ]
     },
     "execution_count": 13,
     "metadata": {},
     "output_type": "execute_result"
    }
   ],
   "source": [
    "df.shape"
   ]
  },
  {
   "cell_type": "code",
   "execution_count": 15,
   "metadata": {},
   "outputs": [
    {
     "name": "stdout",
     "output_type": "stream",
     "text": [
      "<class 'pandas.core.frame.DataFrame'>\n",
      "RangeIndex: 2000 entries, 0 to 1999\n",
      "Data columns (total 8 columns):\n",
      " #   Column  Non-Null Count  Dtype\n",
      "---  ------  --------------  -----\n",
      " 0   1       2000 non-null   int64\n",
      " 1   2       2000 non-null   int64\n",
      " 2   3       2000 non-null   int64\n",
      " 3   4       2000 non-null   int64\n",
      " 4   5       2000 non-null   int64\n",
      " 5   6       2000 non-null   int64\n",
      " 6   7       2000 non-null   int64\n",
      " 7   room    2000 non-null   int64\n",
      "dtypes: int64(8)\n",
      "memory usage: 125.1 KB\n"
     ]
    }
   ],
   "source": [
    "df.info()"
   ]
  },
  {
   "cell_type": "code",
   "execution_count": 16,
   "metadata": {},
   "outputs": [
    {
     "data": {
      "text/html": [
       "<div>\n",
       "<style scoped>\n",
       "    .dataframe tbody tr th:only-of-type {\n",
       "        vertical-align: middle;\n",
       "    }\n",
       "\n",
       "    .dataframe tbody tr th {\n",
       "        vertical-align: top;\n",
       "    }\n",
       "\n",
       "    .dataframe thead th {\n",
       "        text-align: right;\n",
       "    }\n",
       "</style>\n",
       "<table border=\"1\" class=\"dataframe\">\n",
       "  <thead>\n",
       "    <tr style=\"text-align: right;\">\n",
       "      <th></th>\n",
       "      <th>count</th>\n",
       "      <th>mean</th>\n",
       "      <th>std</th>\n",
       "      <th>min</th>\n",
       "      <th>25%</th>\n",
       "      <th>50%</th>\n",
       "      <th>75%</th>\n",
       "      <th>max</th>\n",
       "    </tr>\n",
       "  </thead>\n",
       "  <tbody>\n",
       "    <tr>\n",
       "      <th>1</th>\n",
       "      <td>2000.0</td>\n",
       "      <td>-52.3305</td>\n",
       "      <td>11.321677</td>\n",
       "      <td>-74.0</td>\n",
       "      <td>-61.00</td>\n",
       "      <td>-55.0</td>\n",
       "      <td>-46.00</td>\n",
       "      <td>-10.0</td>\n",
       "    </tr>\n",
       "    <tr>\n",
       "      <th>2</th>\n",
       "      <td>2000.0</td>\n",
       "      <td>-55.6235</td>\n",
       "      <td>3.417688</td>\n",
       "      <td>-74.0</td>\n",
       "      <td>-58.00</td>\n",
       "      <td>-56.0</td>\n",
       "      <td>-53.00</td>\n",
       "      <td>-45.0</td>\n",
       "    </tr>\n",
       "    <tr>\n",
       "      <th>3</th>\n",
       "      <td>2000.0</td>\n",
       "      <td>-54.9640</td>\n",
       "      <td>5.316186</td>\n",
       "      <td>-73.0</td>\n",
       "      <td>-58.00</td>\n",
       "      <td>-55.0</td>\n",
       "      <td>-51.00</td>\n",
       "      <td>-40.0</td>\n",
       "    </tr>\n",
       "    <tr>\n",
       "      <th>4</th>\n",
       "      <td>2000.0</td>\n",
       "      <td>-53.5665</td>\n",
       "      <td>11.471982</td>\n",
       "      <td>-77.0</td>\n",
       "      <td>-63.00</td>\n",
       "      <td>-56.0</td>\n",
       "      <td>-46.00</td>\n",
       "      <td>-11.0</td>\n",
       "    </tr>\n",
       "    <tr>\n",
       "      <th>5</th>\n",
       "      <td>2000.0</td>\n",
       "      <td>-62.6405</td>\n",
       "      <td>9.105093</td>\n",
       "      <td>-89.0</td>\n",
       "      <td>-69.00</td>\n",
       "      <td>-64.0</td>\n",
       "      <td>-56.00</td>\n",
       "      <td>-36.0</td>\n",
       "    </tr>\n",
       "    <tr>\n",
       "      <th>6</th>\n",
       "      <td>2000.0</td>\n",
       "      <td>-80.9850</td>\n",
       "      <td>6.516672</td>\n",
       "      <td>-97.0</td>\n",
       "      <td>-86.00</td>\n",
       "      <td>-82.0</td>\n",
       "      <td>-77.00</td>\n",
       "      <td>-61.0</td>\n",
       "    </tr>\n",
       "    <tr>\n",
       "      <th>7</th>\n",
       "      <td>2000.0</td>\n",
       "      <td>-81.7265</td>\n",
       "      <td>6.519812</td>\n",
       "      <td>-98.0</td>\n",
       "      <td>-87.00</td>\n",
       "      <td>-83.0</td>\n",
       "      <td>-78.00</td>\n",
       "      <td>-63.0</td>\n",
       "    </tr>\n",
       "    <tr>\n",
       "      <th>room</th>\n",
       "      <td>2000.0</td>\n",
       "      <td>2.5000</td>\n",
       "      <td>1.118314</td>\n",
       "      <td>1.0</td>\n",
       "      <td>1.75</td>\n",
       "      <td>2.5</td>\n",
       "      <td>3.25</td>\n",
       "      <td>4.0</td>\n",
       "    </tr>\n",
       "  </tbody>\n",
       "</table>\n",
       "</div>"
      ],
      "text/plain": [
       "       count     mean        std   min    25%   50%    75%   max\n",
       "1     2000.0 -52.3305  11.321677 -74.0 -61.00 -55.0 -46.00 -10.0\n",
       "2     2000.0 -55.6235   3.417688 -74.0 -58.00 -56.0 -53.00 -45.0\n",
       "3     2000.0 -54.9640   5.316186 -73.0 -58.00 -55.0 -51.00 -40.0\n",
       "4     2000.0 -53.5665  11.471982 -77.0 -63.00 -56.0 -46.00 -11.0\n",
       "5     2000.0 -62.6405   9.105093 -89.0 -69.00 -64.0 -56.00 -36.0\n",
       "6     2000.0 -80.9850   6.516672 -97.0 -86.00 -82.0 -77.00 -61.0\n",
       "7     2000.0 -81.7265   6.519812 -98.0 -87.00 -83.0 -78.00 -63.0\n",
       "room  2000.0   2.5000   1.118314   1.0   1.75   2.5   3.25   4.0"
      ]
     },
     "execution_count": 16,
     "metadata": {},
     "output_type": "execute_result"
    }
   ],
   "source": [
    "df.describe().T"
   ]
  },
  {
   "cell_type": "code",
   "execution_count": 17,
   "metadata": {},
   "outputs": [],
   "source": [
    "from sklearn.preprocessing import StandardScaler"
   ]
  },
  {
   "cell_type": "code",
   "execution_count": 18,
   "metadata": {},
   "outputs": [],
   "source": [
    "scaler = StandardScaler().fit(df.iloc[:,:7])"
   ]
  },
  {
   "cell_type": "code",
   "execution_count": 19,
   "metadata": {},
   "outputs": [],
   "source": [
    "df.iloc[:,:7] = scaler.transform(df.iloc[:,:7])"
   ]
  },
  {
   "cell_type": "code",
   "execution_count": 20,
   "metadata": {},
   "outputs": [
    {
     "data": {
      "text/html": [
       "<div>\n",
       "<style scoped>\n",
       "    .dataframe tbody tr th:only-of-type {\n",
       "        vertical-align: middle;\n",
       "    }\n",
       "\n",
       "    .dataframe tbody tr th {\n",
       "        vertical-align: top;\n",
       "    }\n",
       "\n",
       "    .dataframe thead th {\n",
       "        text-align: right;\n",
       "    }\n",
       "</style>\n",
       "<table border=\"1\" class=\"dataframe\">\n",
       "  <thead>\n",
       "    <tr style=\"text-align: right;\">\n",
       "      <th></th>\n",
       "      <th>1</th>\n",
       "      <th>2</th>\n",
       "      <th>3</th>\n",
       "      <th>4</th>\n",
       "      <th>5</th>\n",
       "      <th>6</th>\n",
       "      <th>7</th>\n",
       "      <th>room</th>\n",
       "    </tr>\n",
       "  </thead>\n",
       "  <tbody>\n",
       "    <tr>\n",
       "      <th>0</th>\n",
       "      <td>-1.030980</td>\n",
       "      <td>-0.110190</td>\n",
       "      <td>-1.135684</td>\n",
       "      <td>-1.084085</td>\n",
       "      <td>-0.918342</td>\n",
       "      <td>-0.155793</td>\n",
       "      <td>0.111457</td>\n",
       "      <td>1</td>\n",
       "    </tr>\n",
       "    <tr>\n",
       "      <th>1</th>\n",
       "      <td>-1.384373</td>\n",
       "      <td>-0.402858</td>\n",
       "      <td>-1.135684</td>\n",
       "      <td>-0.996895</td>\n",
       "      <td>-0.918342</td>\n",
       "      <td>-0.616266</td>\n",
       "      <td>-0.502211</td>\n",
       "      <td>1</td>\n",
       "    </tr>\n",
       "    <tr>\n",
       "      <th>2</th>\n",
       "      <td>-0.942631</td>\n",
       "      <td>-1.280864</td>\n",
       "      <td>-0.947533</td>\n",
       "      <td>-1.171276</td>\n",
       "      <td>-1.467623</td>\n",
       "      <td>-0.616266</td>\n",
       "      <td>-0.348794</td>\n",
       "      <td>1</td>\n",
       "    </tr>\n",
       "    <tr>\n",
       "      <th>3</th>\n",
       "      <td>-0.765935</td>\n",
       "      <td>-1.280864</td>\n",
       "      <td>-2.452747</td>\n",
       "      <td>-0.735323</td>\n",
       "      <td>-1.577479</td>\n",
       "      <td>-1.383721</td>\n",
       "      <td>0.264874</td>\n",
       "      <td>1</td>\n",
       "    </tr>\n",
       "    <tr>\n",
       "      <th>4</th>\n",
       "      <td>-0.942631</td>\n",
       "      <td>-2.744208</td>\n",
       "      <td>-0.947533</td>\n",
       "      <td>-0.822513</td>\n",
       "      <td>-1.577479</td>\n",
       "      <td>-0.002302</td>\n",
       "      <td>-0.809045</td>\n",
       "      <td>1</td>\n",
       "    </tr>\n",
       "  </tbody>\n",
       "</table>\n",
       "</div>"
      ],
      "text/plain": [
       "          1         2         3         4         5         6         7  room\n",
       "0 -1.030980 -0.110190 -1.135684 -1.084085 -0.918342 -0.155793  0.111457     1\n",
       "1 -1.384373 -0.402858 -1.135684 -0.996895 -0.918342 -0.616266 -0.502211     1\n",
       "2 -0.942631 -1.280864 -0.947533 -1.171276 -1.467623 -0.616266 -0.348794     1\n",
       "3 -0.765935 -1.280864 -2.452747 -0.735323 -1.577479 -1.383721  0.264874     1\n",
       "4 -0.942631 -2.744208 -0.947533 -0.822513 -1.577479 -0.002302 -0.809045     1"
      ]
     },
     "execution_count": 20,
     "metadata": {},
     "output_type": "execute_result"
    }
   ],
   "source": [
    "df.head()"
   ]
  },
  {
   "cell_type": "code",
   "execution_count": 21,
   "metadata": {},
   "outputs": [],
   "source": [
    "X = df.drop(columns=\"room\")\n",
    "y=df.room"
   ]
  },
  {
   "cell_type": "code",
   "execution_count": 22,
   "metadata": {},
   "outputs": [],
   "source": [
    "from sklearn.model_selection import train_test_split"
   ]
  },
  {
   "cell_type": "code",
   "execution_count": 39,
   "metadata": {},
   "outputs": [],
   "source": [
    "X_train, X_test, y_train, y_test = train_test_split(X,y,test_size=0.2)"
   ]
  },
  {
   "cell_type": "code",
   "execution_count": 40,
   "metadata": {},
   "outputs": [],
   "source": [
    "from sklearn.metrics import accuracy_score\n",
    "\n",
    "from sklearn.tree import DecisionTreeClassifier\n",
    "from sklearn.neighbors import KNeighborsClassifier\n",
    "from sklearn.neural_network import MLPClassifier\n",
    "from sklearn.ensemble import GradientBoostingClassifier, RandomForestClassifier\n",
    "from sklearn.svm import SVC"
   ]
  },
  {
   "cell_type": "code",
   "execution_count": 41,
   "metadata": {},
   "outputs": [],
   "source": [
    "list_of_model = [DecisionTreeClassifier(), KNeighborsClassifier(), MLPClassifier(), GradientBoostingClassifier(), RandomForestClassifier(), SVC()]"
   ]
  },
  {
   "cell_type": "code",
   "execution_count": 42,
   "metadata": {},
   "outputs": [],
   "source": [
    "def model_comperation():\n",
    "    score=list()\n",
    "    for model in list_of_model:\n",
    "        estimator = model.fit(X_train,y_train)\n",
    "        y_pred = estimator.predict(X_test)\n",
    "        ac_score = accuracy_score(y_test,y_pred)\n",
    "\n",
    "        score.append({\n",
    "            \"estimator\" : estimator,\n",
    "            \"accuracy_score\" : ac_score\n",
    "        })\n",
    "        result_df = pd.DataFrame(score,columns= [\"estimator\",\"accuracy_score\"])\n",
    "    return result_df\n",
    "\n"
   ]
  },
  {
   "cell_type": "code",
   "execution_count": 43,
   "metadata": {},
   "outputs": [
    {
     "name": "stderr",
     "output_type": "stream",
     "text": [
      "d:\\Users\\ukdem\\anaconda3\\lib\\site-packages\\sklearn\\neural_network\\_multilayer_perceptron.py:692: ConvergenceWarning: Stochastic Optimizer: Maximum iterations (200) reached and the optimization hasn't converged yet.\n",
      "  warnings.warn(\n"
     ]
    }
   ],
   "source": [
    "model_df = model_comperation()"
   ]
  },
  {
   "cell_type": "code",
   "execution_count": 44,
   "metadata": {},
   "outputs": [
    {
     "data": {
      "text/html": [
       "<div>\n",
       "<style scoped>\n",
       "    .dataframe tbody tr th:only-of-type {\n",
       "        vertical-align: middle;\n",
       "    }\n",
       "\n",
       "    .dataframe tbody tr th {\n",
       "        vertical-align: top;\n",
       "    }\n",
       "\n",
       "    .dataframe thead th {\n",
       "        text-align: right;\n",
       "    }\n",
       "</style>\n",
       "<table border=\"1\" class=\"dataframe\">\n",
       "  <thead>\n",
       "    <tr style=\"text-align: right;\">\n",
       "      <th></th>\n",
       "      <th>estimator</th>\n",
       "      <th>accuracy_score</th>\n",
       "    </tr>\n",
       "  </thead>\n",
       "  <tbody>\n",
       "    <tr>\n",
       "      <th>0</th>\n",
       "      <td>DecisionTreeClassifier()</td>\n",
       "      <td>0.9800</td>\n",
       "    </tr>\n",
       "    <tr>\n",
       "      <th>1</th>\n",
       "      <td>KNeighborsClassifier()</td>\n",
       "      <td>0.9775</td>\n",
       "    </tr>\n",
       "    <tr>\n",
       "      <th>2</th>\n",
       "      <td>MLPClassifier()</td>\n",
       "      <td>0.9775</td>\n",
       "    </tr>\n",
       "    <tr>\n",
       "      <th>3</th>\n",
       "      <td>([DecisionTreeRegressor(criterion='friedman_ms...</td>\n",
       "      <td>0.9825</td>\n",
       "    </tr>\n",
       "    <tr>\n",
       "      <th>4</th>\n",
       "      <td>(DecisionTreeClassifier(max_features='auto', r...</td>\n",
       "      <td>0.9875</td>\n",
       "    </tr>\n",
       "    <tr>\n",
       "      <th>5</th>\n",
       "      <td>SVC()</td>\n",
       "      <td>0.9775</td>\n",
       "    </tr>\n",
       "  </tbody>\n",
       "</table>\n",
       "</div>"
      ],
      "text/plain": [
       "                                           estimator  accuracy_score\n",
       "0                           DecisionTreeClassifier()          0.9800\n",
       "1                             KNeighborsClassifier()          0.9775\n",
       "2                                    MLPClassifier()          0.9775\n",
       "3  ([DecisionTreeRegressor(criterion='friedman_ms...          0.9825\n",
       "4  (DecisionTreeClassifier(max_features='auto', r...          0.9875\n",
       "5                                              SVC()          0.9775"
      ]
     },
     "execution_count": 44,
     "metadata": {},
     "output_type": "execute_result"
    }
   ],
   "source": [
    "model_df"
   ]
  },
  {
   "cell_type": "code",
   "execution_count": 46,
   "metadata": {},
   "outputs": [
    {
     "data": {
      "text/plain": [
       "(400, 7)"
      ]
     },
     "execution_count": 46,
     "metadata": {},
     "output_type": "execute_result"
    }
   ],
   "source": [
    "X_test.shape"
   ]
  },
  {
   "cell_type": "code",
   "execution_count": 47,
   "metadata": {},
   "outputs": [
    {
     "data": {
      "text/plain": [
       "(1600, 7)"
      ]
     },
     "execution_count": 47,
     "metadata": {},
     "output_type": "execute_result"
    }
   ],
   "source": [
    "X_train.shape"
   ]
  },
  {
   "cell_type": "code",
   "execution_count": 50,
   "metadata": {},
   "outputs": [
    {
     "data": {
      "text/plain": [
       "0.9725"
      ]
     },
     "execution_count": 50,
     "metadata": {},
     "output_type": "execute_result"
    }
   ],
   "source": [
    "model = DecisionTreeClassifier().fit(X_train,y_train)\n",
    "y_pred = model.predict(X_test)\n",
    "accuracy_score(y_test,y_pred)"
   ]
  },
  {
   "cell_type": "code",
   "execution_count": 51,
   "metadata": {},
   "outputs": [
    {
     "data": {
      "text/plain": [
       "1712    4\n",
       "1210    3\n",
       "385     1\n",
       "1896    4\n",
       "1805    4\n",
       "       ..\n",
       "1168    3\n",
       "771     2\n",
       "1609    4\n",
       "1997    4\n",
       "115     1\n",
       "Name: room, Length: 400, dtype: int64"
      ]
     },
     "execution_count": 51,
     "metadata": {},
     "output_type": "execute_result"
    }
   ],
   "source": [
    "y_test"
   ]
  },
  {
   "cell_type": "code",
   "execution_count": 52,
   "metadata": {},
   "outputs": [
    {
     "data": {
      "text/plain": [
       "array([4, 3, 1, 4, 4, 1, 3, 1, 3, 1, 4, 3, 3, 1, 4, 4, 2, 4, 4, 1, 3, 3,\n",
       "       3, 2, 2, 1, 4, 3, 3, 3, 4, 3, 1, 3, 2, 4, 1, 1, 1, 2, 4, 1, 3, 1,\n",
       "       2, 4, 2, 4, 1, 4, 3, 1, 1, 4, 2, 3, 1, 3, 3, 2, 4, 2, 1, 2, 3, 1,\n",
       "       3, 3, 1, 4, 2, 2, 4, 3, 3, 2, 4, 1, 3, 4, 3, 2, 2, 4, 1, 3, 2, 1,\n",
       "       2, 3, 2, 2, 2, 4, 3, 2, 4, 4, 1, 3, 4, 2, 1, 4, 4, 4, 4, 2, 4, 1,\n",
       "       4, 4, 2, 1, 3, 3, 2, 2, 3, 3, 3, 1, 1, 2, 3, 1, 2, 3, 2, 2, 3, 3,\n",
       "       2, 4, 4, 2, 1, 1, 3, 1, 2, 1, 4, 1, 2, 1, 4, 1, 1, 3, 1, 2, 1, 2,\n",
       "       2, 1, 3, 4, 1, 4, 2, 3, 1, 3, 1, 3, 4, 4, 3, 1, 4, 3, 4, 4, 4, 4,\n",
       "       2, 2, 4, 2, 3, 1, 2, 3, 1, 1, 1, 4, 2, 2, 4, 1, 3, 4, 1, 4, 3, 3,\n",
       "       3, 1, 2, 3, 3, 4, 3, 2, 3, 3, 4, 4, 4, 3, 4, 3, 4, 1, 1, 4, 1, 3,\n",
       "       1, 1, 2, 1, 3, 2, 1, 2, 3, 3, 4, 1, 2, 4, 3, 1, 1, 4, 4, 2, 1, 4,\n",
       "       1, 2, 4, 1, 3, 1, 4, 1, 1, 3, 2, 2, 3, 1, 3, 2, 3, 3, 4, 3, 4, 4,\n",
       "       1, 2, 1, 4, 3, 1, 1, 4, 3, 4, 1, 3, 4, 4, 3, 2, 2, 4, 2, 3, 4, 1,\n",
       "       4, 4, 4, 4, 4, 1, 2, 2, 2, 4, 2, 2, 3, 3, 3, 1, 2, 1, 1, 2, 3, 2,\n",
       "       3, 3, 4, 3, 2, 1, 3, 4, 2, 4, 2, 1, 3, 1, 1, 1, 3, 2, 3, 2, 3, 2,\n",
       "       2, 4, 4, 1, 2, 2, 2, 2, 4, 4, 1, 1, 2, 4, 1, 3, 3, 1, 3, 3, 3, 4,\n",
       "       1, 2, 2, 2, 4, 1, 2, 1, 2, 3, 3, 1, 1, 4, 2, 1, 3, 3, 3, 4, 4, 3,\n",
       "       4, 3, 2, 1, 2, 1, 4, 3, 4, 4, 2, 4, 3, 2, 2, 1, 4, 1, 4, 2, 2, 3,\n",
       "       2, 4, 4, 1], dtype=int64)"
      ]
     },
     "execution_count": 52,
     "metadata": {},
     "output_type": "execute_result"
    }
   ],
   "source": [
    "y_pred"
   ]
  },
  {
   "cell_type": "code",
   "execution_count": 53,
   "metadata": {},
   "outputs": [
    {
     "data": {
      "text/plain": [
       "400"
      ]
     },
     "execution_count": 53,
     "metadata": {},
     "output_type": "execute_result"
    }
   ],
   "source": [
    "len(y_pred)"
   ]
  },
  {
   "cell_type": "code",
   "execution_count": null,
   "metadata": {},
   "outputs": [],
   "source": []
  }
 ],
 "metadata": {
  "kernelspec": {
   "display_name": "Python 3.9.12 ('base')",
   "language": "python",
   "name": "python3"
  },
  "language_info": {
   "codemirror_mode": {
    "name": "ipython",
    "version": 3
   },
   "file_extension": ".py",
   "mimetype": "text/x-python",
   "name": "python",
   "nbconvert_exporter": "python",
   "pygments_lexer": "ipython3",
   "version": "3.9.12"
  },
  "orig_nbformat": 4,
  "vscode": {
   "interpreter": {
    "hash": "e44c804000e9fb9bb33e7c91d3efeca0ada907271a34dcf925338bdabcadf197"
   }
  }
 },
 "nbformat": 4,
 "nbformat_minor": 2
}
